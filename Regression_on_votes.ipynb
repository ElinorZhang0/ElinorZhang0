{
  "nbformat": 4,
  "nbformat_minor": 0,
  "metadata": {
    "colab": {
      "provenance": [],
      "include_colab_link": true
    },
    "kernelspec": {
      "name": "python3",
      "display_name": "Python 3"
    },
    "language_info": {
      "name": "python"
    }
  },
  "cells": [
    {
      "cell_type": "markdown",
      "metadata": {
        "id": "view-in-github",
        "colab_type": "text"
      },
      "source": [
        "<a href=\"https://colab.research.google.com/github/ElinorZhang0/ElinorZhang0/blob/main/Regression_on_votes.ipynb\" target=\"_parent\"><img src=\"https://colab.research.google.com/assets/colab-badge.svg\" alt=\"Open In Colab\"/></a>"
      ]
    },
    {
      "cell_type": "markdown",
      "source": [
        "# Predict Eshoo vote \n",
        "\n",
        "Linear regression,  using other candidate numbers as features\n",
        "\n",
        "See https://colab.research.google.com/github/jakevdp/PythonDataScienceHandbook/blob/master/notebooks/05.06-Linear-Regression.ipynb#scrollTo=ZFR7roqSdejL\n",
        "\n",
        "We use Scikit-learn's regression model for prediction\n",
        "\n"
      ],
      "metadata": {
        "id": "RNtf_Blscxgg"
      }
    },
    {
      "cell_type": "code",
      "execution_count": null,
      "metadata": {
        "id": "mAZrH-92cnl3"
      },
      "outputs": [],
      "source": [
        "%matplotlib inline\n",
        "import matplotlib.pyplot as plt\n",
        "import seaborn as sns; sns.set()\n",
        "import numpy as np\n",
        "import pandas as pd\n",
        "from sklearn.linear_model import LinearRegression"
      ]
    },
    {
      "cell_type": "markdown",
      "source": [
        "# Adjusted votes regression\n"
      ],
      "metadata": {
        "id": "R-Wq_-CeTPZ4"
      }
    },
    {
      "cell_type": "markdown",
      "source": [
        "Adjustments:\n",
        "1. non-serious candidate counts as 20% serious candidates\n",
        "2. votes between presidential and non-presidential year) (average of both year, subtract delta) \n",
        "presidential vote average: 190968\t\n",
        "non-presidential vote average: 151364\t\t\n",
        "delta: 39604\n",
        "\n",
        "Average non serious candidate: 20,257\n",
        "\n",
        "Median\t14,411\n",
        "\n",
        "Max\t47,484 | Min\t2,190\t\t\t\n",
        "Average (exclude min/max)\t19239.22222\n",
        "\n",
        "\t\t"
      ],
      "metadata": {
        "id": "S9mmXBUnTtxY"
      }
    },
    {
      "cell_type": "code",
      "source": [
        "table1 = pd.DataFrame(np.array(\n",
        "[[2012,\t2,  141306, 102364, 101702, 62760, 109620.25],\n",
        "[2014,\t2,\t120240,\t110773, 120240, 110773, 47557.05],\n",
        "[2016,\t1,\t194621,\t145105, 155017, 105501, 2892.75],\n",
        "[2018,\t1,\t182488,\t143692, 182488, 143692, 77580.88],\n",
        "[2020,\t2,\t236976,\t195436, 197372, 155832, 556821.16]]), \n",
        " columns=['year',\t'#of serious candidates' ,\t'total votes',\t\n",
        "          'total adjusted votes (by condition 1)','total adjusted votes (by condition 2)',\n",
        "          'total adjusted votes (by condition 1 & 2)','Total Spend'])\n",
        "table1.head()\n"
      ],
      "metadata": {
        "colab": {
          "base_uri": "https://localhost:8080/",
          "height": 261
        },
        "id": "eqLOvoByTOxD",
        "outputId": "df5f63a0-f2c5-459e-9f09-1fd1008f64f2"
      },
      "execution_count": null,
      "outputs": [
        {
          "output_type": "execute_result",
          "data": {
            "text/plain": [
              "     year  #of serious candidates  total votes  \\\n",
              "0  2012.0                     2.0     141306.0   \n",
              "1  2014.0                     2.0     120240.0   \n",
              "2  2016.0                     1.0     194621.0   \n",
              "3  2018.0                     1.0     182488.0   \n",
              "4  2020.0                     2.0     236976.0   \n",
              "\n",
              "   total adjusted votes (by condition 1)  \\\n",
              "0                               102364.0   \n",
              "1                               110773.0   \n",
              "2                               145105.0   \n",
              "3                               143692.0   \n",
              "4                               195436.0   \n",
              "\n",
              "   total adjusted votes (by condition 2)  \\\n",
              "0                               101702.0   \n",
              "1                               120240.0   \n",
              "2                               155017.0   \n",
              "3                               182488.0   \n",
              "4                               197372.0   \n",
              "\n",
              "   total adjusted votes (by condition 1 & 2)  Total Spend  \n",
              "0                                    62760.0    109620.25  \n",
              "1                                   110773.0     47557.05  \n",
              "2                                   105501.0      2892.75  \n",
              "3                                   143692.0     77580.88  \n",
              "4                                   155832.0    556821.16  "
            ],
            "text/html": [
              "\n",
              "  <div id=\"df-3c860718-6983-4955-8d68-b14413f1de10\">\n",
              "    <div class=\"colab-df-container\">\n",
              "      <div>\n",
              "<style scoped>\n",
              "    .dataframe tbody tr th:only-of-type {\n",
              "        vertical-align: middle;\n",
              "    }\n",
              "\n",
              "    .dataframe tbody tr th {\n",
              "        vertical-align: top;\n",
              "    }\n",
              "\n",
              "    .dataframe thead th {\n",
              "        text-align: right;\n",
              "    }\n",
              "</style>\n",
              "<table border=\"1\" class=\"dataframe\">\n",
              "  <thead>\n",
              "    <tr style=\"text-align: right;\">\n",
              "      <th></th>\n",
              "      <th>year</th>\n",
              "      <th>#of serious candidates</th>\n",
              "      <th>total votes</th>\n",
              "      <th>total adjusted votes (by condition 1)</th>\n",
              "      <th>total adjusted votes (by condition 2)</th>\n",
              "      <th>total adjusted votes (by condition 1 &amp; 2)</th>\n",
              "      <th>Total Spend</th>\n",
              "    </tr>\n",
              "  </thead>\n",
              "  <tbody>\n",
              "    <tr>\n",
              "      <th>0</th>\n",
              "      <td>2012.0</td>\n",
              "      <td>2.0</td>\n",
              "      <td>141306.0</td>\n",
              "      <td>102364.0</td>\n",
              "      <td>101702.0</td>\n",
              "      <td>62760.0</td>\n",
              "      <td>109620.25</td>\n",
              "    </tr>\n",
              "    <tr>\n",
              "      <th>1</th>\n",
              "      <td>2014.0</td>\n",
              "      <td>2.0</td>\n",
              "      <td>120240.0</td>\n",
              "      <td>110773.0</td>\n",
              "      <td>120240.0</td>\n",
              "      <td>110773.0</td>\n",
              "      <td>47557.05</td>\n",
              "    </tr>\n",
              "    <tr>\n",
              "      <th>2</th>\n",
              "      <td>2016.0</td>\n",
              "      <td>1.0</td>\n",
              "      <td>194621.0</td>\n",
              "      <td>145105.0</td>\n",
              "      <td>155017.0</td>\n",
              "      <td>105501.0</td>\n",
              "      <td>2892.75</td>\n",
              "    </tr>\n",
              "    <tr>\n",
              "      <th>3</th>\n",
              "      <td>2018.0</td>\n",
              "      <td>1.0</td>\n",
              "      <td>182488.0</td>\n",
              "      <td>143692.0</td>\n",
              "      <td>182488.0</td>\n",
              "      <td>143692.0</td>\n",
              "      <td>77580.88</td>\n",
              "    </tr>\n",
              "    <tr>\n",
              "      <th>4</th>\n",
              "      <td>2020.0</td>\n",
              "      <td>2.0</td>\n",
              "      <td>236976.0</td>\n",
              "      <td>195436.0</td>\n",
              "      <td>197372.0</td>\n",
              "      <td>155832.0</td>\n",
              "      <td>556821.16</td>\n",
              "    </tr>\n",
              "  </tbody>\n",
              "</table>\n",
              "</div>\n",
              "      <button class=\"colab-df-convert\" onclick=\"convertToInteractive('df-3c860718-6983-4955-8d68-b14413f1de10')\"\n",
              "              title=\"Convert this dataframe to an interactive table.\"\n",
              "              style=\"display:none;\">\n",
              "        \n",
              "  <svg xmlns=\"http://www.w3.org/2000/svg\" height=\"24px\"viewBox=\"0 0 24 24\"\n",
              "       width=\"24px\">\n",
              "    <path d=\"M0 0h24v24H0V0z\" fill=\"none\"/>\n",
              "    <path d=\"M18.56 5.44l.94 2.06.94-2.06 2.06-.94-2.06-.94-.94-2.06-.94 2.06-2.06.94zm-11 1L8.5 8.5l.94-2.06 2.06-.94-2.06-.94L8.5 2.5l-.94 2.06-2.06.94zm10 10l.94 2.06.94-2.06 2.06-.94-2.06-.94-.94-2.06-.94 2.06-2.06.94z\"/><path d=\"M17.41 7.96l-1.37-1.37c-.4-.4-.92-.59-1.43-.59-.52 0-1.04.2-1.43.59L10.3 9.45l-7.72 7.72c-.78.78-.78 2.05 0 2.83L4 21.41c.39.39.9.59 1.41.59.51 0 1.02-.2 1.41-.59l7.78-7.78 2.81-2.81c.8-.78.8-2.07 0-2.86zM5.41 20L4 18.59l7.72-7.72 1.47 1.35L5.41 20z\"/>\n",
              "  </svg>\n",
              "      </button>\n",
              "      \n",
              "  <style>\n",
              "    .colab-df-container {\n",
              "      display:flex;\n",
              "      flex-wrap:wrap;\n",
              "      gap: 12px;\n",
              "    }\n",
              "\n",
              "    .colab-df-convert {\n",
              "      background-color: #E8F0FE;\n",
              "      border: none;\n",
              "      border-radius: 50%;\n",
              "      cursor: pointer;\n",
              "      display: none;\n",
              "      fill: #1967D2;\n",
              "      height: 32px;\n",
              "      padding: 0 0 0 0;\n",
              "      width: 32px;\n",
              "    }\n",
              "\n",
              "    .colab-df-convert:hover {\n",
              "      background-color: #E2EBFA;\n",
              "      box-shadow: 0px 1px 2px rgba(60, 64, 67, 0.3), 0px 1px 3px 1px rgba(60, 64, 67, 0.15);\n",
              "      fill: #174EA6;\n",
              "    }\n",
              "\n",
              "    [theme=dark] .colab-df-convert {\n",
              "      background-color: #3B4455;\n",
              "      fill: #D2E3FC;\n",
              "    }\n",
              "\n",
              "    [theme=dark] .colab-df-convert:hover {\n",
              "      background-color: #434B5C;\n",
              "      box-shadow: 0px 1px 3px 1px rgba(0, 0, 0, 0.15);\n",
              "      filter: drop-shadow(0px 1px 2px rgba(0, 0, 0, 0.3));\n",
              "      fill: #FFFFFF;\n",
              "    }\n",
              "  </style>\n",
              "\n",
              "      <script>\n",
              "        const buttonEl =\n",
              "          document.querySelector('#df-3c860718-6983-4955-8d68-b14413f1de10 button.colab-df-convert');\n",
              "        buttonEl.style.display =\n",
              "          google.colab.kernel.accessAllowed ? 'block' : 'none';\n",
              "\n",
              "        async function convertToInteractive(key) {\n",
              "          const element = document.querySelector('#df-3c860718-6983-4955-8d68-b14413f1de10');\n",
              "          const dataTable =\n",
              "            await google.colab.kernel.invokeFunction('convertToInteractive',\n",
              "                                                     [key], {});\n",
              "          if (!dataTable) return;\n",
              "\n",
              "          const docLinkHtml = 'Like what you see? Visit the ' +\n",
              "            '<a target=\"_blank\" href=https://colab.research.google.com/notebooks/data_table.ipynb>data table notebook</a>'\n",
              "            + ' to learn more about interactive tables.';\n",
              "          element.innerHTML = '';\n",
              "          dataTable['output_type'] = 'display_data';\n",
              "          await google.colab.output.renderOutput(dataTable, element);\n",
              "          const docLink = document.createElement('div');\n",
              "          docLink.innerHTML = docLinkHtml;\n",
              "          element.appendChild(docLink);\n",
              "        }\n",
              "      </script>\n",
              "    </div>\n",
              "  </div>\n",
              "  "
            ]
          },
          "metadata": {},
          "execution_count": 10
        }
      ]
    },
    {
      "cell_type": "code",
      "source": [
        "from numpy.ma.extras import median, average\n",
        "\n",
        "x = int(102364.0/2.4), int(110773.0/2.4), int(145105.0/1.4) , int(143692.0/1.4), int(195436.0/2.6)\n",
        "y = int(62760.0/2.4), int(110773.0/2.4), int(105501.0/1.4) , int(143692.0/1.4), int(155832.0/2.6)\n",
        "\n",
        "print(x, average(x), median(x))\n",
        "print(y, average(y), median(y))\n"
      ],
      "metadata": {
        "colab": {
          "base_uri": "https://localhost:8080/"
        },
        "id": "j83w9xYJ4b4G",
        "outputId": "8da5d121-6c57-4b75-b30c-60a0a87fc079"
      },
      "execution_count": null,
      "outputs": [
        {
          "output_type": "stream",
          "name": "stdout",
          "text": [
            "(42651, 46155, 103646, 102637, 75167) 74051.2 75167.0\n",
            "(26150, 46155, 75357, 102637, 59935) 62046.8 59935.0\n"
          ]
        }
      ]
    },
    {
      "cell_type": "code",
      "source": [
        "(141306.0\t- 102364.0)/102364.0, 102364.0*1.4, (120240.0\t - 110773.0)/ 110773.0\t\n",
        "(141306.0\t- 102364.0)/141306.0, (120240.0\t - 110773.0)/ 120240.0"
      ],
      "metadata": {
        "colab": {
          "base_uri": "https://localhost:8080/"
        },
        "id": "L8OYTrpW5BJJ",
        "outputId": "f3c4f67a-2436-4dc0-d1f7-873a569892f3"
      },
      "execution_count": null,
      "outputs": [
        {
          "output_type": "execute_result",
          "data": {
            "text/plain": [
              "(0.2755863162215334, 0.07873419827012641)"
            ]
          },
          "metadata": {},
          "execution_count": 28
        }
      ]
    },
    {
      "cell_type": "code",
      "source": [
        "# number of votes vs. number of serious candidates\n",
        "model = LinearRegression(fit_intercept=True)\n",
        "y = table1['total adjusted votes (by condition 1 & 2)']\n",
        "x = table1[['year']]\n",
        "model.fit(x, y)\n",
        "\n",
        "yfit = model.predict(x)\n",
        "\n",
        "plt.scatter(x, y)\n",
        "print(\"Model slope:    \", model.coef_[0])\n",
        "print(\"Model intercept:\", model.intercept_)\n",
        "\n",
        "predict_2022 = 10953.150000000001*2022+(-21965838.8)\n",
        "print(\"predict 2022: \", predict_2022)"
      ],
      "metadata": {
        "colab": {
          "base_uri": "https://localhost:8080/",
          "height": 320
        },
        "id": "PfJyXLsI8MDo",
        "outputId": "138f7936-18fc-4c1a-de9d-356f12cc9d29"
      },
      "execution_count": null,
      "outputs": [
        {
          "output_type": "stream",
          "name": "stdout",
          "text": [
            "Model slope:     10953.150000000001\n",
            "Model intercept: -21965838.8\n",
            "predict 2022:  181430.50000000373\n"
          ]
        },
        {
          "output_type": "display_data",
          "data": {
            "text/plain": [
              "<Figure size 432x288 with 1 Axes>"
            ],
            "image/png": "[encoded data removed]"
          },
          "metadata": {}
        }
      ]
    },
    {
      "cell_type": "code",
      "source": [
        "# number of votes vs. number of serious candidates\n",
        "model = LinearRegression(fit_intercept=True)\n",
        "y = table1['total adjusted votes (by condition 1 & 2)']\n",
        "x = table1[['#of serious candidates','total adjusted votes (by condition 1)','total adjusted votes (by condition 2)' ]]\n",
        "model.fit(x, y)\n",
        "\n",
        "\n",
        "yfit = model.predict(x)\n",
        "\n",
        "plt.scatter(y, yfit)"
      ],
      "metadata": {
        "colab": {
          "base_uri": "https://localhost:8080/",
          "height": 285
        },
        "id": "BW7IAIbcU-0H",
        "outputId": "dda18550-c069-4d6d-9697-0a4c300272d4"
      },
      "execution_count": null,
      "outputs": [
        {
          "output_type": "execute_result",
          "data": {
            "text/plain": [
              "<matplotlib.collections.PathCollection at 0x7f678074fe90>"
            ]
          },
          "metadata": {},
          "execution_count": 6
        },
        {
          "output_type": "display_data",
          "data": {
            "text/plain": [
              "<Figure size 432x288 with 1 Axes>"
            ],
            "image/png": "[encoded data removed]"
          },
          "metadata": {
            "needs_background": "light"
          }
        }
      ]
    },
    {
      "cell_type": "code",
      "source": [
        "# total spend vs. #of votes\n",
        "\n",
        "model = LinearRegression(fit_intercept=True)\n",
        "y = table1['total adjusted votes (by condition 1 & 2)']\n",
        "x = table1[['Total Spend']]\n",
        "model.fit(x, y)\n",
        "\n",
        "\n",
        "yfit = model.predict(x)\n",
        "\n",
        "plt.scatter(x, y)"
      ],
      "metadata": {
        "colab": {
          "base_uri": "https://localhost:8080/",
          "height": 287
        },
        "id": "E64lilFFX7RK",
        "outputId": "fb06ab08-0d87-49e2-efed-6d289fa9f77f"
      },
      "execution_count": null,
      "outputs": [
        {
          "output_type": "execute_result",
          "data": {
            "text/plain": [
              "<matplotlib.collections.PathCollection at 0x7f19e3710510>"
            ]
          },
          "metadata": {},
          "execution_count": 7
        },
        {
          "output_type": "display_data",
          "data": {
            "text/plain": [
              "<Figure size 432x288 with 1 Axes>"
            ],
            "image/png": "[encoded data removed]"
          },
          "metadata": {
            "needs_background": "light"
          }
        }
      ]
    },
    {
      "cell_type": "code",
      "source": [
        " # % of no party reference vs number of total votes\n",
        "\n",
        " # same data set for no party preference "
      ],
      "metadata": {
        "id": "NPQrTLoFYPcj"
      },
      "execution_count": null,
      "outputs": []
    },
    {
      "cell_type": "markdown",
      "source": [
        "# Anna\n"
      ],
      "metadata": {
        "id": "crZbmKLiTRvo"
      }
    },
    {
      "cell_type": "code",
      "source": [
        "# Here's a copy of the data\n",
        "table = pd.DataFrame(np.array(\n",
        "[[2012,\t86851,\t2,\t3,\t1, 840020.31, 100431.55 , 739588.76 , 473954.43, 119848.58 , 354105.85 ,1313974.74, 24545.00],\n",
        "[2014,\t81295,\t2,\t3,\t3, 1033082.95, 36046.28 ,  997036.67 , 683133.39, 15003.37 , 668130.02 , 1716216.34, 52106.00],\n",
        "[2016,\t132726,\t1,\t3,\t1, 897040.35,  2892.75 , 894147.60 ,564170.9, 42574.09 , 521596.81 ,1461211.25, 26480.93],\n",
        "[2018,\t133993,\t0,\t3,\t1, 960510.25, 77580.88 , 882929.37 , 523914.19, 76171.36 , 447742.83 ,1484424.44,\t0],\n",
        "[2020,\t146225,\t2,\t4,\t2, 1367967.57,  251279.05 ,  1116688.52 , 845766.59,   440463.95 ,  405302.64, 2213734.16, 797259.38]]), \n",
        " columns=['year',\t'votes',\t'no_challengers_w_spend',\t'no_challengers',\t'no_republicans',\t'Eshoo_spend_primary_total','Eshoo_spend_primary_ads','Eshoo_spend_primary_other', 'Eshoo_spend_general_total',\t'Eshoo_spend_general_ad', 'Eshoo_spend_general_other','Eshoo_spend_overall','challenger_spend_overall'])\n",
        "table.head()"
      ],
      "metadata": {
        "id": "kteK8Gr6eM0c",
        "colab": {
          "base_uri": "https://localhost:8080/",
          "height": 264
        },
        "outputId": "4c393034-39d2-4e60-90c3-d22a3f103c2f"
      },
      "execution_count": null,
      "outputs": [
        {
          "output_type": "execute_result",
          "data": {
            "text/html": [
              "\n",
              "  <div id=\"df-f6a53e86-a19c-499b-b29e-a887d2ddf641\">\n",
              "    <div class=\"colab-df-container\">\n",
              "      <div>\n",
              "<style scoped>\n",
              "    .dataframe tbody tr th:only-of-type {\n",
              "        vertical-align: middle;\n",
              "    }\n",
              "\n",
              "    .dataframe tbody tr th {\n",
              "        vertical-align: top;\n",
              "    }\n",
              "\n",
              "    .dataframe thead th {\n",
              "        text-align: right;\n",
              "    }\n",
              "</style>\n",
              "<table border=\"1\" class=\"dataframe\">\n",
              "  <thead>\n",
              "    <tr style=\"text-align: right;\">\n",
              "      <th></th>\n",
              "      <th>year</th>\n",
              "      <th>votes</th>\n",
              "      <th>no_challengers_w_spend</th>\n",
              "      <th>no_challengers</th>\n",
              "      <th>no_republicans</th>\n",
              "      <th>Eshoo_spend_primary_total</th>\n",
              "      <th>Eshoo_spend_primary_ads</th>\n",
              "      <th>Eshoo_spend_primary_other</th>\n",
              "      <th>Eshoo_spend_general_total</th>\n",
              "      <th>Eshoo_spend_general_ad</th>\n",
              "      <th>Eshoo_spend_general_other</th>\n",
              "      <th>Eshoo_spend_overall</th>\n",
              "      <th>challenger_spend_overall</th>\n",
              "    </tr>\n",
              "  </thead>\n",
              "  <tbody>\n",
              "    <tr>\n",
              "      <th>0</th>\n",
              "      <td>2012.0</td>\n",
              "      <td>86851.0</td>\n",
              "      <td>2.0</td>\n",
              "      <td>3.0</td>\n",
              "      <td>1.0</td>\n",
              "      <td>840020.31</td>\n",
              "      <td>100431.55</td>\n",
              "      <td>739588.76</td>\n",
              "      <td>473954.43</td>\n",
              "      <td>119848.58</td>\n",
              "      <td>354105.85</td>\n",
              "      <td>1313974.74</td>\n",
              "      <td>24545.00</td>\n",
              "    </tr>\n",
              "    <tr>\n",
              "      <th>1</th>\n",
              "      <td>2014.0</td>\n",
              "      <td>81295.0</td>\n",
              "      <td>2.0</td>\n",
              "      <td>3.0</td>\n",
              "      <td>3.0</td>\n",
              "      <td>1033082.95</td>\n",
              "      <td>36046.28</td>\n",
              "      <td>997036.67</td>\n",
              "      <td>683133.39</td>\n",
              "      <td>15003.37</td>\n",
              "      <td>668130.02</td>\n",
              "      <td>1716216.34</td>\n",
              "      <td>52106.00</td>\n",
              "    </tr>\n",
              "    <tr>\n",
              "      <th>2</th>\n",
              "      <td>2016.0</td>\n",
              "      <td>132726.0</td>\n",
              "      <td>1.0</td>\n",
              "      <td>3.0</td>\n",
              "      <td>1.0</td>\n",
              "      <td>897040.35</td>\n",
              "      <td>2892.75</td>\n",
              "      <td>894147.60</td>\n",
              "      <td>564170.90</td>\n",
              "      <td>42574.09</td>\n",
              "      <td>521596.81</td>\n",
              "      <td>1461211.25</td>\n",
              "      <td>26480.93</td>\n",
              "    </tr>\n",
              "    <tr>\n",
              "      <th>3</th>\n",
              "      <td>2018.0</td>\n",
              "      <td>133993.0</td>\n",
              "      <td>0.0</td>\n",
              "      <td>3.0</td>\n",
              "      <td>1.0</td>\n",
              "      <td>960510.25</td>\n",
              "      <td>77580.88</td>\n",
              "      <td>882929.37</td>\n",
              "      <td>523914.19</td>\n",
              "      <td>76171.36</td>\n",
              "      <td>447742.83</td>\n",
              "      <td>1484424.44</td>\n",
              "      <td>0.00</td>\n",
              "    </tr>\n",
              "    <tr>\n",
              "      <th>4</th>\n",
              "      <td>2020.0</td>\n",
              "      <td>146225.0</td>\n",
              "      <td>2.0</td>\n",
              "      <td>4.0</td>\n",
              "      <td>2.0</td>\n",
              "      <td>1367967.57</td>\n",
              "      <td>251279.05</td>\n",
              "      <td>1116688.52</td>\n",
              "      <td>845766.59</td>\n",
              "      <td>440463.95</td>\n",
              "      <td>405302.64</td>\n",
              "      <td>2213734.16</td>\n",
              "      <td>797259.38</td>\n",
              "    </tr>\n",
              "  </tbody>\n",
              "</table>\n",
              "</div>\n",
              "      <button class=\"colab-df-convert\" onclick=\"convertToInteractive('df-f6a53e86-a19c-499b-b29e-a887d2ddf641')\"\n",
              "              title=\"Convert this dataframe to an interactive table.\"\n",
              "              style=\"display:none;\">\n",
              "        \n",
              "  <svg xmlns=\"http://www.w3.org/2000/svg\" height=\"24px\"viewBox=\"0 0 24 24\"\n",
              "       width=\"24px\">\n",
              "    <path d=\"M0 0h24v24H0V0z\" fill=\"none\"/>\n",
              "    <path d=\"M18.56 5.44l.94 2.06.94-2.06 2.06-.94-2.06-.94-.94-2.06-.94 2.06-2.06.94zm-11 1L8.5 8.5l.94-2.06 2.06-.94-2.06-.94L8.5 2.5l-.94 2.06-2.06.94zm10 10l.94 2.06.94-2.06 2.06-.94-2.06-.94-.94-2.06-.94 2.06-2.06.94z\"/><path d=\"M17.41 7.96l-1.37-1.37c-.4-.4-.92-.59-1.43-.59-.52 0-1.04.2-1.43.59L10.3 9.45l-7.72 7.72c-.78.78-.78 2.05 0 2.83L4 21.41c.39.39.9.59 1.41.59.51 0 1.02-.2 1.41-.59l7.78-7.78 2.81-2.81c.8-.78.8-2.07 0-2.86zM5.41 20L4 18.59l7.72-7.72 1.47 1.35L5.41 20z\"/>\n",
              "  </svg>\n",
              "      </button>\n",
              "      \n",
              "  <style>\n",
              "    .colab-df-container {\n",
              "      display:flex;\n",
              "      flex-wrap:wrap;\n",
              "      gap: 12px;\n",
              "    }\n",
              "\n",
              "    .colab-df-convert {\n",
              "      background-color: #E8F0FE;\n",
              "      border: none;\n",
              "      border-radius: 50%;\n",
              "      cursor: pointer;\n",
              "      display: none;\n",
              "      fill: #1967D2;\n",
              "      height: 32px;\n",
              "      padding: 0 0 0 0;\n",
              "      width: 32px;\n",
              "    }\n",
              "\n",
              "    .colab-df-convert:hover {\n",
              "      background-color: #E2EBFA;\n",
              "      box-shadow: 0px 1px 2px rgba(60, 64, 67, 0.3), 0px 1px 3px 1px rgba(60, 64, 67, 0.15);\n",
              "      fill: #174EA6;\n",
              "    }\n",
              "\n",
              "    [theme=dark] .colab-df-convert {\n",
              "      background-color: #3B4455;\n",
              "      fill: #D2E3FC;\n",
              "    }\n",
              "\n",
              "    [theme=dark] .colab-df-convert:hover {\n",
              "      background-color: #434B5C;\n",
              "      box-shadow: 0px 1px 3px 1px rgba(0, 0, 0, 0.15);\n",
              "      filter: drop-shadow(0px 1px 2px rgba(0, 0, 0, 0.3));\n",
              "      fill: #FFFFFF;\n",
              "    }\n",
              "  </style>\n",
              "\n",
              "      <script>\n",
              "        const buttonEl =\n",
              "          document.querySelector('#df-f6a53e86-a19c-499b-b29e-a887d2ddf641 button.colab-df-convert');\n",
              "        buttonEl.style.display =\n",
              "          google.colab.kernel.accessAllowed ? 'block' : 'none';\n",
              "\n",
              "        async function convertToInteractive(key) {\n",
              "          const element = document.querySelector('#df-f6a53e86-a19c-499b-b29e-a887d2ddf641');\n",
              "          const dataTable =\n",
              "            await google.colab.kernel.invokeFunction('convertToInteractive',\n",
              "                                                     [key], {});\n",
              "          if (!dataTable) return;\n",
              "\n",
              "          const docLinkHtml = 'Like what you see? Visit the ' +\n",
              "            '<a target=\"_blank\" href=https://colab.research.google.com/notebooks/data_table.ipynb>data table notebook</a>'\n",
              "            + ' to learn more about interactive tables.';\n",
              "          element.innerHTML = '';\n",
              "          dataTable['output_type'] = 'display_data';\n",
              "          await google.colab.output.renderOutput(dataTable, element);\n",
              "          const docLink = document.createElement('div');\n",
              "          docLink.innerHTML = docLinkHtml;\n",
              "          element.appendChild(docLink);\n",
              "        }\n",
              "      </script>\n",
              "    </div>\n",
              "  </div>\n",
              "  "
            ],
            "text/plain": [
              "     year     votes  ...  Eshoo_spend_overall  challenger_spend_overall\n",
              "0  2012.0   86851.0  ...           1313974.74                  24545.00\n",
              "1  2014.0   81295.0  ...           1716216.34                  52106.00\n",
              "2  2016.0  132726.0  ...           1461211.25                  26480.93\n",
              "3  2018.0  133993.0  ...           1484424.44                      0.00\n",
              "4  2020.0  146225.0  ...           2213734.16                 797259.38\n",
              "\n",
              "[5 rows x 13 columns]"
            ]
          },
          "metadata": {},
          "execution_count": 5
        }
      ]
    },
    {
      "cell_type": "code",
      "source": [
        "model = LinearRegression(fit_intercept=True)\n",
        "y = table['votes']\n",
        "x = table[['challenger_spend_overall', 'no_republicans',  'Eshoo_spend_overall']] #'no_challengers_w_spend', 'no_challengers',\n",
        "model.fit(x, y)\n",
        "\n",
        "\n",
        "yfit = model.predict(x)\n",
        "\n",
        "plt.scatter(y, yfit)"
      ],
      "metadata": {
        "colab": {
          "base_uri": "https://localhost:8080/",
          "height": 284
        },
        "id": "k0djetUngfPR",
        "outputId": "3b93198d-0781-4e05-c764-b15b66bea3b5"
      },
      "execution_count": null,
      "outputs": [
        {
          "output_type": "execute_result",
          "data": {
            "text/plain": [
              "<matplotlib.collections.PathCollection at 0x7fd428345ad0>"
            ]
          },
          "metadata": {},
          "execution_count": 7
        },
        {
          "output_type": "display_data",
          "data": {
            "image/png": "[encoded data removed]",
            "text/plain": [
              "<Figure size 432x288 with 1 Axes>"
            ]
          },
          "metadata": {
            "needs_background": "light"
          }
        }
      ]
    },
    {
      "cell_type": "markdown",
      "source": [
        "Be caseful, if you add all 5 variables the model is \"saturated\" and will find a perfect prediction. "
      ],
      "metadata": {
        "id": "fD-naiN_jURB"
      }
    },
    {
      "cell_type": "code",
      "source": [
        "# relationship between primary_money spend vs. # of challenger with spending vs. challenger spending overall\n",
        "model = LinearRegression(fit_intercept=True)\n",
        "y = table['Eshoo_spend_primary']\n",
        "x = table[['no_challengers_w_spend', 'challenger_spend_overall']] \n",
        "model.fit(x, y)\n",
        "\n",
        "\n",
        "yfit = model.predict(x)\n",
        "\n",
        "plt.scatter(y, yfit)"
      ],
      "metadata": {
        "colab": {
          "base_uri": "https://localhost:8080/",
          "height": 308
        },
        "id": "NTTlbtkNg-Xu",
        "outputId": "86dd8871-77b8-4ff9-cc0f-d5b5c4616d97"
      },
      "execution_count": null,
      "outputs": [
        {
          "output_type": "execute_result",
          "data": {
            "text/plain": [
              "<matplotlib.collections.PathCollection at 0x7fd425f33cd0>"
            ]
          },
          "metadata": {},
          "execution_count": 12
        },
        {
          "output_type": "display_data",
          "data": {
            "image/png": "[encoded data removed]",
            "text/plain": [
              "<Figure size 432x288 with 1 Axes>"
            ]
          },
          "metadata": {
            "needs_background": "light"
          }
        }
      ]
    },
    {
      "cell_type": "code",
      "source": [
        "# relationship between primary_money spend vs. # of challenger with spending vs. # of votes\n",
        "\n",
        "model = LinearRegression(fit_intercept=True)\n",
        "y = table['votes']\n",
        "x = table[['Eshoo_spend_primary','no_challengers_w_spend']] \n",
        "model.fit(x, y)\n",
        "\n",
        "\n",
        "yfit = model.predict(x)\n",
        "\n",
        "plt.scatter(y, yfit)"
      ],
      "metadata": {
        "colab": {
          "base_uri": "https://localhost:8080/",
          "height": 284
        },
        "id": "H62Vv8yThQ1N",
        "outputId": "56b846b1-16cd-42f3-ec0e-fe97654b36cc"
      },
      "execution_count": null,
      "outputs": [
        {
          "output_type": "execute_result",
          "data": {
            "text/plain": [
              "<matplotlib.collections.PathCollection at 0x7fd425fcf110>"
            ]
          },
          "metadata": {},
          "execution_count": 11
        },
        {
          "output_type": "display_data",
          "data": {
            "image/png": "[encoded data removed]",
            "text/plain": [
              "<Figure size 432x288 with 1 Axes>"
            ]
          },
          "metadata": {
            "needs_background": "light"
          }
        }
      ]
    }
  ]
}