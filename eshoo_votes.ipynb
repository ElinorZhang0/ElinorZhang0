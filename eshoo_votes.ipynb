{
  "nbformat": 4,
  "nbformat_minor": 0,
  "metadata": {
    "colab": {
      "provenance": [],
      "include_colab_link": true
    },
    "kernelspec": {
      "name": "python3",
      "display_name": "Python 3"
    },
    "language_info": {
      "name": "python"
    }
  },
  "cells": [
    {
      "cell_type": "markdown",
      "metadata": {
        "id": "view-in-github",
        "colab_type": "text"
      },
      "source": [
        "<a href=\"https://colab.research.google.com/github/ElinorZhang0/ElinorZhang0/blob/main/eshoo_votes.ipynb\" target=\"_parent\"><img src=\"https://colab.research.google.com/assets/colab-badge.svg\" alt=\"Open In Colab\"/></a>"
      ]
    },
    {
      "cell_type": "markdown",
      "source": [
        "# Predict Eshoo vote \n",
        "\n",
        "Linear regression,  using other candidate numbers as features\n",
        "\n",
        "See https://colab.research.google.com/github/jakevdp/PythonDataScienceHandbook/blob/master/notebooks/05.06-Linear-Regression.ipynb#scrollTo=ZFR7roqSdejL\n",
        "\n",
        "We use Scikit-learn's regression model for prediction\n",
        "\n"
      ],
      "metadata": {
        "id": "RNtf_Blscxgg"
      }
    },
    {
      "cell_type": "code",
      "execution_count": null,
      "metadata": {
        "id": "mAZrH-92cnl3"
      },
      "outputs": [],
      "source": [
        "%matplotlib inline\n",
        "import matplotlib.pyplot as plt\n",
        "import seaborn as sns; sns.set()\n",
        "import numpy as np\n",
        "import pandas as pd\n",
        "from sklearn.linear_model import LinearRegression"
      ]
    },
    {
      "cell_type": "code",
      "source": [
        "# Here's a copy of the data\n",
        "table = pd.DataFrame(np.array(\n",
        "[[2012,\t86851,\t2,\t3,\t1, 1489802.48, 24545.00],\n",
        "[2014,\t81295,\t2,\t3,\t3, 1509756.37, 52106.00],\n",
        "[2016,\t132726,\t1,\t3,\t1, 1375000.00, 26480.93],\n",
        "[2018,\t133993,\t0,\t3,\t1, 1456223.86,\t0],\n",
        "[2020,\t146225,\t2,\t4,\t2, 2134402.98, 797259.38]]), \n",
        " columns=['year',\t'votes',\t'no_challengers_w_spend',\t'no_challengers',\t'no_republicans',\t'Eshoo_spend',\t'challenger_spend'])"
      ],
      "metadata": {
        "id": "kteK8Gr6eM0c"
      },
      "execution_count": null,
      "outputs": []
    },
    {
      "cell_type": "code",
      "source": [
        "model = LinearRegression(fit_intercept=True)\n",
        "y = table['votes']\n",
        "x = table[['challenger_spend', 'no_republicans',  'Eshoo_spend']] #'no_challengers_w_spend', 'no_challengers',\n",
        "model.fit(x, y)\n",
        "\n",
        "\n",
        "yfit = model.predict(x)\n",
        "\n",
        "plt.scatter(y, yfit)"
      ],
      "metadata": {
        "colab": {
          "base_uri": "https://localhost:8080/",
          "height": 285
        },
        "id": "k0djetUngfPR",
        "outputId": "f3b29a1a-5e33-4809-80ee-5bf8d6db5f4d"
      },
      "execution_count": null,
      "outputs": [
        {
          "output_type": "execute_result",
          "data": {
            "text/plain": [
              "<matplotlib.collections.PathCollection at 0x7fc6c9386890>"
            ]
          },
          "metadata": {},
          "execution_count": 23
        },
        {
          "output_type": "display_data",
          "data": {
            "image/png": "[encoded data removed]",
            "text/plain": [
              "<Figure size 432x288 with 1 Axes>"
            ]
          },
          "metadata": {}
        }
      ]
    },
    {
      "cell_type": "markdown",
      "source": [
        "Be caseful, if you add all 5 variables the model is \"saturated\" and will find a perfect prediction. "
      ],
      "metadata": {
        "id": "fD-naiN_jURB"
      }
    }
  ]
}