{
  "cells": [
    {
      "cell_type": "markdown",
      "metadata": {
        "id": "view-in-github",
        "colab_type": "text"
      },
      "source": [
        "<a href=\"https://colab.research.google.com/github/ElinorZhang0/ElinorZhang0/blob/main/import_AppSheet_data.ipynb\" target=\"_parent\"><img src=\"https://colab.research.google.com/assets/colab-badge.svg\" alt=\"Open In Colab\"/></a>"
      ]
    },
    {
      "cell_type": "code",
      "execution_count": null,
      "metadata": {
        "colab": {
          "base_uri": "https://localhost:8080/"
        },
        "id": "jkwkYi9-T5P0",
        "outputId": "05e3fa6f-b3be-4e74-e348-f8c1a50140ee"
      },
      "outputs": [
        {
          "output_type": "stream",
          "name": "stdout",
          "text": [
            "Looking in indexes: https://pypi.org/simple, https://us-python.pkg.dev/colab-wheels/public/simple/\n",
            "Collecting hubspot\n",
            "  Downloading hubspot-0.1.14dev.tar.gz (6.1 kB)\n",
            "Building wheels for collected packages: hubspot\n",
            "  Building wheel for hubspot (setup.py) ... \u001b[?25l\u001b[?25hdone\n",
            "  Created wheel for hubspot: filename=hubspot-0.1.14.dev0-py3-none-any.whl size=10448 sha256=a18bdf797e78dd7a04db91221b502349f55e18b100a94da5679918580d758df3\n",
            "  Stored in directory: /root/.cache/pip/wheels/4e/d4/13/170189127bef41d667e354462aee1940d03537ab0fc3c75ce6\n",
            "Successfully built hubspot\n",
            "Installing collected packages: hubspot\n",
            "Successfully installed hubspot-0.1.14.dev0\n"
          ]
        }
      ],
      "source": [
        "pip install hubspot"
      ]
    },
    {
      "cell_type": "code",
      "execution_count": null,
      "metadata": {
        "colab": {
          "base_uri": "https://localhost:8080/"
        },
        "id": "NhP5fGdFT-e6",
        "outputId": "48fb9f68-7d07-4565-a764-aa7b86ecaa3c"
      },
      "outputs": [
        {
          "output_type": "stream",
          "name": "stdout",
          "text": [
            "Looking in indexes: https://pypi.org/simple, https://us-python.pkg.dev/colab-wheels/public/simple/\n",
            "Collecting hubspot-api-client\n",
            "  Downloading hubspot_api_client-6.0.0-py3-none-any.whl (2.6 MB)\n",
            "\u001b[K     |████████████████████████████████| 2.6 MB 4.3 MB/s \n",
            "\u001b[?25hRequirement already satisfied: certifi in /usr/local/lib/python3.7/dist-packages (from hubspot-api-client) (2022.6.15)\n",
            "Requirement already satisfied: urllib3>=1.15 in /usr/local/lib/python3.7/dist-packages (from hubspot-api-client) (1.24.3)\n",
            "Requirement already satisfied: six>=1.10 in /usr/local/lib/python3.7/dist-packages (from hubspot-api-client) (1.15.0)\n",
            "Requirement already satisfied: python-dateutil in /usr/local/lib/python3.7/dist-packages (from hubspot-api-client) (2.8.2)\n",
            "Installing collected packages: hubspot-api-client\n",
            "Successfully installed hubspot-api-client-6.0.0\n"
          ]
        }
      ],
      "source": [
        "!pip install --upgrade hubspot-api-client"
      ]
    },
    {
      "cell_type": "code",
      "execution_count": null,
      "metadata": {
        "id": "c7x1SO3jUANp"
      },
      "outputs": [],
      "source": [
        "from google.colab import auth\n",
        "auth.authenticate_user()"
      ]
    },
    {
      "cell_type": "code",
      "execution_count": null,
      "metadata": {
        "colab": {
          "base_uri": "https://localhost:8080/",
          "height": 1000
        },
        "id": "MxH1sXc-UC6r",
        "outputId": "e64c3c52-2a08-4ee7-e17c-f72311d39b26"
      },
      "outputs": [
        {
          "output_type": "stream",
          "name": "stdout",
          "text": [
            "Looking in indexes: https://pypi.org/simple, https://us-python.pkg.dev/colab-wheels/public/simple/\n",
            "Collecting google-cloud-secret-manager\n",
            "  Downloading google_cloud_secret_manager-2.12.4-py2.py3-none-any.whl (98 kB)\n",
            "\u001b[K     |████████████████████████████████| 98 kB 2.7 MB/s \n",
            "\u001b[?25hCollecting grpc-google-iam-v1<1.0.0dev,>=0.12.4\n",
            "  Downloading grpc_google_iam_v1-0.12.4-py2.py3-none-any.whl (26 kB)\n",
            "Collecting protobuf<5.0.0dev,>=3.19.0\n",
            "  Downloading protobuf-4.21.5-cp37-abi3-manylinux2014_x86_64.whl (408 kB)\n",
            "\u001b[K     |████████████████████████████████| 408 kB 27.5 MB/s \n",
            "\u001b[?25hCollecting google-api-core[grpc]!=2.0.*,!=2.1.*,!=2.2.*,!=2.3.*,!=2.4.*,!=2.5.*,!=2.6.*,!=2.7.*,<3.0.0dev,>=1.32.0\n",
            "  Downloading google_api_core-2.8.2-py3-none-any.whl (114 kB)\n",
            "\u001b[K     |████████████████████████████████| 114 kB 71.1 MB/s \n",
            "\u001b[?25hCollecting proto-plus<2.0.0dev,>=1.22.0\n",
            "  Downloading proto_plus-1.22.0-py3-none-any.whl (47 kB)\n",
            "\u001b[K     |████████████████████████████████| 47 kB 5.2 MB/s \n",
            "\u001b[?25hRequirement already satisfied: googleapis-common-protos<2.0dev,>=1.56.2 in /usr/local/lib/python3.7/dist-packages (from google-api-core[grpc]!=2.0.*,!=2.1.*,!=2.2.*,!=2.3.*,!=2.4.*,!=2.5.*,!=2.6.*,!=2.7.*,<3.0.0dev,>=1.32.0->google-cloud-secret-manager) (1.56.4)\n",
            "Requirement already satisfied: requests<3.0.0dev,>=2.18.0 in /usr/local/lib/python3.7/dist-packages (from google-api-core[grpc]!=2.0.*,!=2.1.*,!=2.2.*,!=2.3.*,!=2.4.*,!=2.5.*,!=2.6.*,!=2.7.*,<3.0.0dev,>=1.32.0->google-cloud-secret-manager) (2.23.0)\n",
            "Requirement already satisfied: google-auth<3.0dev,>=1.25.0 in /usr/local/lib/python3.7/dist-packages (from google-api-core[grpc]!=2.0.*,!=2.1.*,!=2.2.*,!=2.3.*,!=2.4.*,!=2.5.*,!=2.6.*,!=2.7.*,<3.0.0dev,>=1.32.0->google-cloud-secret-manager) (1.35.0)\n",
            "Collecting grpcio-status<2.0dev,>=1.33.2\n",
            "  Downloading grpcio_status-1.47.0-py3-none-any.whl (10.0 kB)\n",
            "Requirement already satisfied: grpcio<2.0dev,>=1.33.2 in /usr/local/lib/python3.7/dist-packages (from google-api-core[grpc]!=2.0.*,!=2.1.*,!=2.2.*,!=2.3.*,!=2.4.*,!=2.5.*,!=2.6.*,!=2.7.*,<3.0.0dev,>=1.32.0->google-cloud-secret-manager) (1.47.0)\n",
            "Requirement already satisfied: setuptools>=40.3.0 in /usr/local/lib/python3.7/dist-packages (from google-auth<3.0dev,>=1.25.0->google-api-core[grpc]!=2.0.*,!=2.1.*,!=2.2.*,!=2.3.*,!=2.4.*,!=2.5.*,!=2.6.*,!=2.7.*,<3.0.0dev,>=1.32.0->google-cloud-secret-manager) (57.4.0)\n",
            "Requirement already satisfied: six>=1.9.0 in /usr/local/lib/python3.7/dist-packages (from google-auth<3.0dev,>=1.25.0->google-api-core[grpc]!=2.0.*,!=2.1.*,!=2.2.*,!=2.3.*,!=2.4.*,!=2.5.*,!=2.6.*,!=2.7.*,<3.0.0dev,>=1.32.0->google-cloud-secret-manager) (1.15.0)\n",
            "Requirement already satisfied: pyasn1-modules>=0.2.1 in /usr/local/lib/python3.7/dist-packages (from google-auth<3.0dev,>=1.25.0->google-api-core[grpc]!=2.0.*,!=2.1.*,!=2.2.*,!=2.3.*,!=2.4.*,!=2.5.*,!=2.6.*,!=2.7.*,<3.0.0dev,>=1.32.0->google-cloud-secret-manager) (0.2.8)\n",
            "Requirement already satisfied: cachetools<5.0,>=2.0.0 in /usr/local/lib/python3.7/dist-packages (from google-auth<3.0dev,>=1.25.0->google-api-core[grpc]!=2.0.*,!=2.1.*,!=2.2.*,!=2.3.*,!=2.4.*,!=2.5.*,!=2.6.*,!=2.7.*,<3.0.0dev,>=1.32.0->google-cloud-secret-manager) (4.2.4)\n",
            "Requirement already satisfied: rsa<5,>=3.1.4 in /usr/local/lib/python3.7/dist-packages (from google-auth<3.0dev,>=1.25.0->google-api-core[grpc]!=2.0.*,!=2.1.*,!=2.2.*,!=2.3.*,!=2.4.*,!=2.5.*,!=2.6.*,!=2.7.*,<3.0.0dev,>=1.32.0->google-cloud-secret-manager) (4.9)\n",
            "Requirement already satisfied: pyasn1<0.5.0,>=0.4.6 in /usr/local/lib/python3.7/dist-packages (from pyasn1-modules>=0.2.1->google-auth<3.0dev,>=1.25.0->google-api-core[grpc]!=2.0.*,!=2.1.*,!=2.2.*,!=2.3.*,!=2.4.*,!=2.5.*,!=2.6.*,!=2.7.*,<3.0.0dev,>=1.32.0->google-cloud-secret-manager) (0.4.8)\n",
            "Requirement already satisfied: chardet<4,>=3.0.2 in /usr/local/lib/python3.7/dist-packages (from requests<3.0.0dev,>=2.18.0->google-api-core[grpc]!=2.0.*,!=2.1.*,!=2.2.*,!=2.3.*,!=2.4.*,!=2.5.*,!=2.6.*,!=2.7.*,<3.0.0dev,>=1.32.0->google-cloud-secret-manager) (3.0.4)\n",
            "Requirement already satisfied: idna<3,>=2.5 in /usr/local/lib/python3.7/dist-packages (from requests<3.0.0dev,>=2.18.0->google-api-core[grpc]!=2.0.*,!=2.1.*,!=2.2.*,!=2.3.*,!=2.4.*,!=2.5.*,!=2.6.*,!=2.7.*,<3.0.0dev,>=1.32.0->google-cloud-secret-manager) (2.10)\n",
            "Requirement already satisfied: urllib3!=1.25.0,!=1.25.1,<1.26,>=1.21.1 in /usr/local/lib/python3.7/dist-packages (from requests<3.0.0dev,>=2.18.0->google-api-core[grpc]!=2.0.*,!=2.1.*,!=2.2.*,!=2.3.*,!=2.4.*,!=2.5.*,!=2.6.*,!=2.7.*,<3.0.0dev,>=1.32.0->google-cloud-secret-manager) (1.24.3)\n",
            "Requirement already satisfied: certifi>=2017.4.17 in /usr/local/lib/python3.7/dist-packages (from requests<3.0.0dev,>=2.18.0->google-api-core[grpc]!=2.0.*,!=2.1.*,!=2.2.*,!=2.3.*,!=2.4.*,!=2.5.*,!=2.6.*,!=2.7.*,<3.0.0dev,>=1.32.0->google-cloud-secret-manager) (2022.6.15)\n",
            "Installing collected packages: protobuf, grpcio-status, google-api-core, proto-plus, grpc-google-iam-v1, google-cloud-secret-manager\n",
            "  Attempting uninstall: protobuf\n",
            "    Found existing installation: protobuf 3.17.3\n",
            "    Uninstalling protobuf-3.17.3:\n",
            "      Successfully uninstalled protobuf-3.17.3\n",
            "  Attempting uninstall: google-api-core\n",
            "    Found existing installation: google-api-core 1.31.6\n",
            "    Uninstalling google-api-core-1.31.6:\n",
            "      Successfully uninstalled google-api-core-1.31.6\n",
            "\u001b[31mERROR: pip's dependency resolver does not currently take into account all the packages that are installed. This behaviour is the source of the following dependency conflicts.\n",
            "tensorflow 2.8.2+zzzcolab20220719082949 requires protobuf<3.20,>=3.9.2, but you have protobuf 4.21.5 which is incompatible.\n",
            "tensorflow-metadata 1.9.0 requires protobuf<4,>=3.13, but you have protobuf 4.21.5 which is incompatible.\n",
            "google-cloud-translate 1.5.0 requires google-api-core[grpc]<2.0.0dev,>=1.6.0, but you have google-api-core 2.8.2 which is incompatible.\n",
            "google-cloud-language 1.2.0 requires google-api-core[grpc]<2.0.0dev,>=1.6.0, but you have google-api-core 2.8.2 which is incompatible.\n",
            "google-cloud-firestore 1.7.0 requires google-api-core[grpc]<2.0.0dev,>=1.14.0, but you have google-api-core 2.8.2 which is incompatible.\n",
            "google-cloud-datastore 1.8.0 requires google-api-core[grpc]<2.0.0dev,>=1.6.0, but you have google-api-core 2.8.2 which is incompatible.\n",
            "google-cloud-core 1.0.3 requires google-api-core<2.0.0dev,>=1.14.0, but you have google-api-core 2.8.2 which is incompatible.\n",
            "google-cloud-bigquery-storage 1.1.2 requires protobuf<4.0.0dev, but you have protobuf 4.21.5 which is incompatible.\n",
            "firebase-admin 4.4.0 requires google-api-core[grpc]<2.0.0dev,>=1.14.0; platform_python_implementation != \"PyPy\", but you have google-api-core 2.8.2 which is incompatible.\u001b[0m\n",
            "Successfully installed google-api-core-2.8.2 google-cloud-secret-manager-2.12.4 grpc-google-iam-v1-0.12.4 grpcio-status-1.47.0 proto-plus-1.22.0 protobuf-4.21.5\n"
          ]
        },
        {
          "output_type": "display_data",
          "data": {
            "application/vnd.colab-display-data+json": {
              "pip_warning": {
                "packages": [
                  "google"
                ]
              }
            }
          },
          "metadata": {}
        }
      ],
      "source": [
        "!pip install google-cloud-secret-manager"
      ]
    },
    {
      "cell_type": "code",
      "execution_count": null,
      "metadata": {
        "id": "j8DPh_yfUFHz",
        "colab": {
          "base_uri": "https://localhost:8080/",
          "height": 398
        },
        "outputId": "1dd36b71-3990-4f60-c12b-2d5889a2fbe9"
      },
      "outputs": [
        {
          "output_type": "error",
          "ename": "ContextualVersionConflict",
          "evalue": "ignored",
          "traceback": [
            "\u001b[0;31m---------------------------------------------------------------------------\u001b[0m",
            "\u001b[0;31mContextualVersionConflict\u001b[0m                 Traceback (most recent call last)",
            "\u001b[0;32m<ipython-input-5-37fdf492c6af>\u001b[0m in \u001b[0;36m<module>\u001b[0;34m\u001b[0m\n\u001b[0;32m----> 1\u001b[0;31m \u001b[0;32mfrom\u001b[0m \u001b[0mgoogle\u001b[0m\u001b[0;34m.\u001b[0m\u001b[0mcloud\u001b[0m \u001b[0;32mimport\u001b[0m \u001b[0msecretmanager\u001b[0m\u001b[0;34m\u001b[0m\u001b[0;34m\u001b[0m\u001b[0m\n\u001b[0m\u001b[1;32m      2\u001b[0m \u001b[0;34m\u001b[0m\u001b[0m\n\u001b[1;32m      3\u001b[0m \u001b[0;32mdef\u001b[0m \u001b[0maccess_secret_version\u001b[0m\u001b[0;34m(\u001b[0m\u001b[0mproject_id\u001b[0m\u001b[0;34m,\u001b[0m \u001b[0msecret_id\u001b[0m\u001b[0;34m,\u001b[0m \u001b[0mversion_id\u001b[0m\u001b[0;34m)\u001b[0m\u001b[0;34m:\u001b[0m\u001b[0;34m\u001b[0m\u001b[0;34m\u001b[0m\u001b[0m\n\u001b[1;32m      4\u001b[0m     \u001b[0mclient\u001b[0m \u001b[0;34m=\u001b[0m \u001b[0msecretmanager\u001b[0m\u001b[0;34m.\u001b[0m\u001b[0mSecretManagerServiceClient\u001b[0m\u001b[0;34m(\u001b[0m\u001b[0;34m)\u001b[0m\u001b[0;34m\u001b[0m\u001b[0;34m\u001b[0m\u001b[0m\n\u001b[1;32m      5\u001b[0m     \u001b[0mname\u001b[0m \u001b[0;34m=\u001b[0m \u001b[0;34mf\"projects/{project_id}/secrets/{secret_id}/versions/{version_id}\"\u001b[0m\u001b[0;34m\u001b[0m\u001b[0;34m\u001b[0m\u001b[0m\n",
            "\u001b[0;32m/usr/local/lib/python3.7/dist-packages/google/cloud/secretmanager/__init__.py\u001b[0m in \u001b[0;36m<module>\u001b[0;34m\u001b[0m\n\u001b[1;32m     15\u001b[0m \u001b[0;31m#\u001b[0m\u001b[0;34m\u001b[0m\u001b[0;34m\u001b[0m\u001b[0;34m\u001b[0m\u001b[0m\n\u001b[1;32m     16\u001b[0m \u001b[0;34m\u001b[0m\u001b[0m\n\u001b[0;32m---> 17\u001b[0;31m from google.cloud.secretmanager_v1.services.secret_manager_service.async_client import (\n\u001b[0m\u001b[1;32m     18\u001b[0m     \u001b[0mSecretManagerServiceAsyncClient\u001b[0m\u001b[0;34m,\u001b[0m\u001b[0;34m\u001b[0m\u001b[0;34m\u001b[0m\u001b[0m\n\u001b[1;32m     19\u001b[0m )\n",
            "\u001b[0;32m/usr/local/lib/python3.7/dist-packages/google/cloud/secretmanager_v1/__init__.py\u001b[0m in \u001b[0;36m<module>\u001b[0;34m\u001b[0m\n\u001b[1;32m     15\u001b[0m \u001b[0;31m#\u001b[0m\u001b[0;34m\u001b[0m\u001b[0;34m\u001b[0m\u001b[0;34m\u001b[0m\u001b[0m\n\u001b[1;32m     16\u001b[0m \u001b[0;34m\u001b[0m\u001b[0m\n\u001b[0;32m---> 17\u001b[0;31m from .services.secret_manager_service import (\n\u001b[0m\u001b[1;32m     18\u001b[0m     \u001b[0mSecretManagerServiceAsyncClient\u001b[0m\u001b[0;34m,\u001b[0m\u001b[0;34m\u001b[0m\u001b[0;34m\u001b[0m\u001b[0m\n\u001b[1;32m     19\u001b[0m     \u001b[0mSecretManagerServiceClient\u001b[0m\u001b[0;34m,\u001b[0m\u001b[0;34m\u001b[0m\u001b[0;34m\u001b[0m\u001b[0m\n",
            "\u001b[0;32m/usr/local/lib/python3.7/dist-packages/google/cloud/secretmanager_v1/services/secret_manager_service/__init__.py\u001b[0m in \u001b[0;36m<module>\u001b[0;34m\u001b[0m\n\u001b[1;32m     14\u001b[0m \u001b[0;31m# limitations under the License.\u001b[0m\u001b[0;34m\u001b[0m\u001b[0;34m\u001b[0m\u001b[0;34m\u001b[0m\u001b[0m\n\u001b[1;32m     15\u001b[0m \u001b[0;31m#\u001b[0m\u001b[0;34m\u001b[0m\u001b[0;34m\u001b[0m\u001b[0;34m\u001b[0m\u001b[0m\n\u001b[0;32m---> 16\u001b[0;31m \u001b[0;32mfrom\u001b[0m \u001b[0;34m.\u001b[0m\u001b[0masync_client\u001b[0m \u001b[0;32mimport\u001b[0m \u001b[0mSecretManagerServiceAsyncClient\u001b[0m\u001b[0;34m\u001b[0m\u001b[0;34m\u001b[0m\u001b[0m\n\u001b[0m\u001b[1;32m     17\u001b[0m \u001b[0;32mfrom\u001b[0m \u001b[0;34m.\u001b[0m\u001b[0mclient\u001b[0m \u001b[0;32mimport\u001b[0m \u001b[0mSecretManagerServiceClient\u001b[0m\u001b[0;34m\u001b[0m\u001b[0;34m\u001b[0m\u001b[0m\n\u001b[1;32m     18\u001b[0m \u001b[0;34m\u001b[0m\u001b[0m\n",
            "\u001b[0;32m/usr/local/lib/python3.7/dist-packages/google/cloud/secretmanager_v1/services/secret_manager_service/async_client.py\u001b[0m in \u001b[0;36m<module>\u001b[0;34m\u001b[0m\n\u001b[1;32m     41\u001b[0m \u001b[0;32mfrom\u001b[0m \u001b[0mgoogle\u001b[0m\u001b[0;34m.\u001b[0m\u001b[0mcloud\u001b[0m\u001b[0;34m.\u001b[0m\u001b[0msecretmanager_v1\u001b[0m\u001b[0;34m.\u001b[0m\u001b[0mtypes\u001b[0m \u001b[0;32mimport\u001b[0m \u001b[0mresources\u001b[0m\u001b[0;34m,\u001b[0m \u001b[0mservice\u001b[0m\u001b[0;34m\u001b[0m\u001b[0;34m\u001b[0m\u001b[0m\n\u001b[1;32m     42\u001b[0m \u001b[0;34m\u001b[0m\u001b[0m\n\u001b[0;32m---> 43\u001b[0;31m \u001b[0;32mfrom\u001b[0m \u001b[0;34m.\u001b[0m\u001b[0mclient\u001b[0m \u001b[0;32mimport\u001b[0m \u001b[0mSecretManagerServiceClient\u001b[0m\u001b[0;34m\u001b[0m\u001b[0;34m\u001b[0m\u001b[0m\n\u001b[0m\u001b[1;32m     44\u001b[0m \u001b[0;32mfrom\u001b[0m \u001b[0;34m.\u001b[0m\u001b[0mtransports\u001b[0m\u001b[0;34m.\u001b[0m\u001b[0mbase\u001b[0m \u001b[0;32mimport\u001b[0m \u001b[0mDEFAULT_CLIENT_INFO\u001b[0m\u001b[0;34m,\u001b[0m \u001b[0mSecretManagerServiceTransport\u001b[0m\u001b[0;34m\u001b[0m\u001b[0;34m\u001b[0m\u001b[0m\n\u001b[1;32m     45\u001b[0m \u001b[0;32mfrom\u001b[0m \u001b[0;34m.\u001b[0m\u001b[0mtransports\u001b[0m\u001b[0;34m.\u001b[0m\u001b[0mgrpc_asyncio\u001b[0m \u001b[0;32mimport\u001b[0m \u001b[0mSecretManagerServiceGrpcAsyncIOTransport\u001b[0m\u001b[0;34m\u001b[0m\u001b[0;34m\u001b[0m\u001b[0m\n",
            "\u001b[0;32m/usr/local/lib/python3.7/dist-packages/google/cloud/secretmanager_v1/services/secret_manager_service/client.py\u001b[0m in \u001b[0;36m<module>\u001b[0;34m\u001b[0m\n\u001b[1;32m     44\u001b[0m \u001b[0;32mfrom\u001b[0m \u001b[0mgoogle\u001b[0m\u001b[0;34m.\u001b[0m\u001b[0mcloud\u001b[0m\u001b[0;34m.\u001b[0m\u001b[0msecretmanager_v1\u001b[0m\u001b[0;34m.\u001b[0m\u001b[0mtypes\u001b[0m \u001b[0;32mimport\u001b[0m \u001b[0mresources\u001b[0m\u001b[0;34m,\u001b[0m \u001b[0mservice\u001b[0m\u001b[0;34m\u001b[0m\u001b[0;34m\u001b[0m\u001b[0m\n\u001b[1;32m     45\u001b[0m \u001b[0;34m\u001b[0m\u001b[0m\n\u001b[0;32m---> 46\u001b[0;31m \u001b[0;32mfrom\u001b[0m \u001b[0;34m.\u001b[0m\u001b[0mtransports\u001b[0m\u001b[0;34m.\u001b[0m\u001b[0mbase\u001b[0m \u001b[0;32mimport\u001b[0m \u001b[0mDEFAULT_CLIENT_INFO\u001b[0m\u001b[0;34m,\u001b[0m \u001b[0mSecretManagerServiceTransport\u001b[0m\u001b[0;34m\u001b[0m\u001b[0;34m\u001b[0m\u001b[0m\n\u001b[0m\u001b[1;32m     47\u001b[0m \u001b[0;32mfrom\u001b[0m \u001b[0;34m.\u001b[0m\u001b[0mtransports\u001b[0m\u001b[0;34m.\u001b[0m\u001b[0mgrpc\u001b[0m \u001b[0;32mimport\u001b[0m \u001b[0mSecretManagerServiceGrpcTransport\u001b[0m\u001b[0;34m\u001b[0m\u001b[0;34m\u001b[0m\u001b[0m\n\u001b[1;32m     48\u001b[0m \u001b[0;32mfrom\u001b[0m \u001b[0;34m.\u001b[0m\u001b[0mtransports\u001b[0m\u001b[0;34m.\u001b[0m\u001b[0mgrpc_asyncio\u001b[0m \u001b[0;32mimport\u001b[0m \u001b[0mSecretManagerServiceGrpcAsyncIOTransport\u001b[0m\u001b[0;34m\u001b[0m\u001b[0;34m\u001b[0m\u001b[0m\n",
            "\u001b[0;32m/usr/local/lib/python3.7/dist-packages/google/cloud/secretmanager_v1/services/secret_manager_service/transports/__init__.py\u001b[0m in \u001b[0;36m<module>\u001b[0;34m\u001b[0m\n\u001b[1;32m     17\u001b[0m \u001b[0;32mfrom\u001b[0m \u001b[0mtyping\u001b[0m \u001b[0;32mimport\u001b[0m \u001b[0mDict\u001b[0m\u001b[0;34m,\u001b[0m \u001b[0mType\u001b[0m\u001b[0;34m\u001b[0m\u001b[0;34m\u001b[0m\u001b[0m\n\u001b[1;32m     18\u001b[0m \u001b[0;34m\u001b[0m\u001b[0m\n\u001b[0;32m---> 19\u001b[0;31m \u001b[0;32mfrom\u001b[0m \u001b[0;34m.\u001b[0m\u001b[0mbase\u001b[0m \u001b[0;32mimport\u001b[0m \u001b[0mSecretManagerServiceTransport\u001b[0m\u001b[0;34m\u001b[0m\u001b[0;34m\u001b[0m\u001b[0m\n\u001b[0m\u001b[1;32m     20\u001b[0m \u001b[0;32mfrom\u001b[0m \u001b[0;34m.\u001b[0m\u001b[0mgrpc\u001b[0m \u001b[0;32mimport\u001b[0m \u001b[0mSecretManagerServiceGrpcTransport\u001b[0m\u001b[0;34m\u001b[0m\u001b[0;34m\u001b[0m\u001b[0m\n\u001b[1;32m     21\u001b[0m \u001b[0;32mfrom\u001b[0m \u001b[0;34m.\u001b[0m\u001b[0mgrpc_asyncio\u001b[0m \u001b[0;32mimport\u001b[0m \u001b[0mSecretManagerServiceGrpcAsyncIOTransport\u001b[0m\u001b[0;34m\u001b[0m\u001b[0;34m\u001b[0m\u001b[0m\n",
            "\u001b[0;32m/usr/local/lib/python3.7/dist-packages/google/cloud/secretmanager_v1/services/secret_manager_service/transports/base.py\u001b[0m in \u001b[0;36m<module>\u001b[0;34m\u001b[0m\n\u001b[1;32m     34\u001b[0m     DEFAULT_CLIENT_INFO = gapic_v1.client_info.ClientInfo(\n\u001b[1;32m     35\u001b[0m         gapic_version=pkg_resources.get_distribution(\n\u001b[0;32m---> 36\u001b[0;31m             \u001b[0;34m\"google-cloud-secret-manager\"\u001b[0m\u001b[0;34m,\u001b[0m\u001b[0;34m\u001b[0m\u001b[0;34m\u001b[0m\u001b[0m\n\u001b[0m\u001b[1;32m     37\u001b[0m         ).version,\n\u001b[1;32m     38\u001b[0m     )\n",
            "\u001b[0;32m/usr/local/lib/python3.7/dist-packages/pkg_resources/__init__.py\u001b[0m in \u001b[0;36mget_distribution\u001b[0;34m(dist)\u001b[0m\n\u001b[1;32m    464\u001b[0m         \u001b[0mdist\u001b[0m \u001b[0;34m=\u001b[0m \u001b[0mRequirement\u001b[0m\u001b[0;34m.\u001b[0m\u001b[0mparse\u001b[0m\u001b[0;34m(\u001b[0m\u001b[0mdist\u001b[0m\u001b[0;34m)\u001b[0m\u001b[0;34m\u001b[0m\u001b[0;34m\u001b[0m\u001b[0m\n\u001b[1;32m    465\u001b[0m     \u001b[0;32mif\u001b[0m \u001b[0misinstance\u001b[0m\u001b[0;34m(\u001b[0m\u001b[0mdist\u001b[0m\u001b[0;34m,\u001b[0m \u001b[0mRequirement\u001b[0m\u001b[0;34m)\u001b[0m\u001b[0;34m:\u001b[0m\u001b[0;34m\u001b[0m\u001b[0;34m\u001b[0m\u001b[0m\n\u001b[0;32m--> 466\u001b[0;31m         \u001b[0mdist\u001b[0m \u001b[0;34m=\u001b[0m \u001b[0mget_provider\u001b[0m\u001b[0;34m(\u001b[0m\u001b[0mdist\u001b[0m\u001b[0;34m)\u001b[0m\u001b[0;34m\u001b[0m\u001b[0;34m\u001b[0m\u001b[0m\n\u001b[0m\u001b[1;32m    467\u001b[0m     \u001b[0;32mif\u001b[0m \u001b[0;32mnot\u001b[0m \u001b[0misinstance\u001b[0m\u001b[0;34m(\u001b[0m\u001b[0mdist\u001b[0m\u001b[0;34m,\u001b[0m \u001b[0mDistribution\u001b[0m\u001b[0;34m)\u001b[0m\u001b[0;34m:\u001b[0m\u001b[0;34m\u001b[0m\u001b[0;34m\u001b[0m\u001b[0m\n\u001b[1;32m    468\u001b[0m         \u001b[0;32mraise\u001b[0m \u001b[0mTypeError\u001b[0m\u001b[0;34m(\u001b[0m\u001b[0;34m\"Expected string, Requirement, or Distribution\"\u001b[0m\u001b[0;34m,\u001b[0m \u001b[0mdist\u001b[0m\u001b[0;34m)\u001b[0m\u001b[0;34m\u001b[0m\u001b[0;34m\u001b[0m\u001b[0m\n",
            "\u001b[0;32m/usr/local/lib/python3.7/dist-packages/pkg_resources/__init__.py\u001b[0m in \u001b[0;36mget_provider\u001b[0;34m(moduleOrReq)\u001b[0m\n\u001b[1;32m    340\u001b[0m     \u001b[0;34m\"\"\"Return an IResourceProvider for the named module or requirement\"\"\"\u001b[0m\u001b[0;34m\u001b[0m\u001b[0;34m\u001b[0m\u001b[0m\n\u001b[1;32m    341\u001b[0m     \u001b[0;32mif\u001b[0m \u001b[0misinstance\u001b[0m\u001b[0;34m(\u001b[0m\u001b[0mmoduleOrReq\u001b[0m\u001b[0;34m,\u001b[0m \u001b[0mRequirement\u001b[0m\u001b[0;34m)\u001b[0m\u001b[0;34m:\u001b[0m\u001b[0;34m\u001b[0m\u001b[0;34m\u001b[0m\u001b[0m\n\u001b[0;32m--> 342\u001b[0;31m         \u001b[0;32mreturn\u001b[0m \u001b[0mworking_set\u001b[0m\u001b[0;34m.\u001b[0m\u001b[0mfind\u001b[0m\u001b[0;34m(\u001b[0m\u001b[0mmoduleOrReq\u001b[0m\u001b[0;34m)\u001b[0m \u001b[0;32mor\u001b[0m \u001b[0mrequire\u001b[0m\u001b[0;34m(\u001b[0m\u001b[0mstr\u001b[0m\u001b[0;34m(\u001b[0m\u001b[0mmoduleOrReq\u001b[0m\u001b[0;34m)\u001b[0m\u001b[0;34m)\u001b[0m\u001b[0;34m[\u001b[0m\u001b[0;36m0\u001b[0m\u001b[0;34m]\u001b[0m\u001b[0;34m\u001b[0m\u001b[0;34m\u001b[0m\u001b[0m\n\u001b[0m\u001b[1;32m    343\u001b[0m     \u001b[0;32mtry\u001b[0m\u001b[0;34m:\u001b[0m\u001b[0;34m\u001b[0m\u001b[0;34m\u001b[0m\u001b[0m\n\u001b[1;32m    344\u001b[0m         \u001b[0mmodule\u001b[0m \u001b[0;34m=\u001b[0m \u001b[0msys\u001b[0m\u001b[0;34m.\u001b[0m\u001b[0mmodules\u001b[0m\u001b[0;34m[\u001b[0m\u001b[0mmoduleOrReq\u001b[0m\u001b[0;34m]\u001b[0m\u001b[0;34m\u001b[0m\u001b[0;34m\u001b[0m\u001b[0m\n",
            "\u001b[0;32m/usr/local/lib/python3.7/dist-packages/pkg_resources/__init__.py\u001b[0m in \u001b[0;36mrequire\u001b[0;34m(self, *requirements)\u001b[0m\n\u001b[1;32m    884\u001b[0m         \u001b[0mincluded\u001b[0m\u001b[0;34m,\u001b[0m \u001b[0meven\u001b[0m \u001b[0;32mif\u001b[0m \u001b[0mthey\u001b[0m \u001b[0mwere\u001b[0m \u001b[0malready\u001b[0m \u001b[0mactivated\u001b[0m \u001b[0;32min\u001b[0m \u001b[0mthis\u001b[0m \u001b[0mworking\u001b[0m \u001b[0mset\u001b[0m\u001b[0;34m.\u001b[0m\u001b[0;34m\u001b[0m\u001b[0;34m\u001b[0m\u001b[0m\n\u001b[1;32m    885\u001b[0m         \"\"\"\n\u001b[0;32m--> 886\u001b[0;31m         \u001b[0mneeded\u001b[0m \u001b[0;34m=\u001b[0m \u001b[0mself\u001b[0m\u001b[0;34m.\u001b[0m\u001b[0mresolve\u001b[0m\u001b[0;34m(\u001b[0m\u001b[0mparse_requirements\u001b[0m\u001b[0;34m(\u001b[0m\u001b[0mrequirements\u001b[0m\u001b[0;34m)\u001b[0m\u001b[0;34m)\u001b[0m\u001b[0;34m\u001b[0m\u001b[0;34m\u001b[0m\u001b[0m\n\u001b[0m\u001b[1;32m    887\u001b[0m \u001b[0;34m\u001b[0m\u001b[0m\n\u001b[1;32m    888\u001b[0m         \u001b[0;32mfor\u001b[0m \u001b[0mdist\u001b[0m \u001b[0;32min\u001b[0m \u001b[0mneeded\u001b[0m\u001b[0;34m:\u001b[0m\u001b[0;34m\u001b[0m\u001b[0;34m\u001b[0m\u001b[0m\n",
            "\u001b[0;32m/usr/local/lib/python3.7/dist-packages/pkg_resources/__init__.py\u001b[0m in \u001b[0;36mresolve\u001b[0;34m(self, requirements, env, installer, replace_conflicting, extras)\u001b[0m\n\u001b[1;32m    775\u001b[0m                 \u001b[0;31m# Oops, the \"best\" so far conflicts with a dependency\u001b[0m\u001b[0;34m\u001b[0m\u001b[0;34m\u001b[0m\u001b[0;34m\u001b[0m\u001b[0m\n\u001b[1;32m    776\u001b[0m                 \u001b[0mdependent_req\u001b[0m \u001b[0;34m=\u001b[0m \u001b[0mrequired_by\u001b[0m\u001b[0;34m[\u001b[0m\u001b[0mreq\u001b[0m\u001b[0;34m]\u001b[0m\u001b[0;34m\u001b[0m\u001b[0;34m\u001b[0m\u001b[0m\n\u001b[0;32m--> 777\u001b[0;31m                 \u001b[0;32mraise\u001b[0m \u001b[0mVersionConflict\u001b[0m\u001b[0;34m(\u001b[0m\u001b[0mdist\u001b[0m\u001b[0;34m,\u001b[0m \u001b[0mreq\u001b[0m\u001b[0;34m)\u001b[0m\u001b[0;34m.\u001b[0m\u001b[0mwith_context\u001b[0m\u001b[0;34m(\u001b[0m\u001b[0mdependent_req\u001b[0m\u001b[0;34m)\u001b[0m\u001b[0;34m\u001b[0m\u001b[0;34m\u001b[0m\u001b[0m\n\u001b[0m\u001b[1;32m    778\u001b[0m \u001b[0;34m\u001b[0m\u001b[0m\n\u001b[1;32m    779\u001b[0m             \u001b[0;31m# push the new requirements onto the stack\u001b[0m\u001b[0;34m\u001b[0m\u001b[0;34m\u001b[0m\u001b[0;34m\u001b[0m\u001b[0m\n",
            "\u001b[0;31mContextualVersionConflict\u001b[0m: (google-api-core 1.31.6 (/usr/local/lib/python3.7/dist-packages), Requirement.parse('google-api-core[grpc]!=2.0.*,!=2.1.*,!=2.2.*,!=2.3.*,!=2.4.*,!=2.5.*,!=2.6.*,!=2.7.*,<3.0.0dev,>=1.32.0'), {'google-cloud-secret-manager'})"
          ]
        }
      ],
      "source": [
        "from google.cloud import secretmanager\n",
        "\n",
        "def access_secret_version(project_id, secret_id, version_id):\n",
        "    client = secretmanager.SecretManagerServiceClient()\n",
        "    name = f\"projects/{project_id}/secrets/{secret_id}/versions/{version_id}\"\n",
        "    response = client.access_secret_version(request={\"name\": name})\n",
        "    payload = response.payload.data.decode(\"UTF-8\")\n",
        "    return payload\n",
        "\n",
        "HAPI_KEY = access_secret_version(\"vivid-kite-315522\", \"hapi_key\", \"1\")"
      ]
    },
    {
      "cell_type": "code",
      "execution_count": null,
      "metadata": {
        "id": "Sf4OYJJgUHGT"
      },
      "outputs": [],
      "source": [
        "import pandas as pd\n",
        "from pandas import Series, DataFrame\n",
        "from pprint import pprint\n",
        "import requests\n",
        "import hubspot\n",
        "import json\n",
        "from hubspot.crm.contacts import ApiException\n",
        "from hubspot.crm.deals import SimplePublicObjectInput, ApiException\n",
        "from hubspot.crm.associations import BatchInputPublicObjectId\n",
        "from pathlib import Path\n",
        "import glob\n",
        "from numpy.lib import type_check\n",
        "import os\n",
        "import pyarrow.parquet as pq"
      ]
    },
    {
      "cell_type": "code",
      "execution_count": null,
      "metadata": {
        "id": "C6YPNdBNUU6R"
      },
      "outputs": [],
      "source": [
        "from google.colab import drive\n",
        "# If drive is not already mounted: \n",
        "if not Path('/content/drive').exists():\n",
        "  drive.mount('/content/drive')"
      ]
    },
    {
      "cell_type": "code",
      "source": [
        "os.chdir(\"/content/drive/MyDrive/Appsheet data to Hubspot\")"
      ],
      "metadata": {
        "id": "v4byR-N02f-j"
      },
      "execution_count": null,
      "outputs": []
    },
    {
      "cell_type": "code",
      "source": [
        "ls"
      ],
      "metadata": {
        "colab": {
          "base_uri": "https://localhost:8080/"
        },
        "id": "Al1H4zE_ThX1",
        "outputId": "55f44b13-bcf0-4526-d7d2-555e00c04d6d"
      },
      "execution_count": null,
      "outputs": [
        {
          "output_type": "stream",
          "name": "stdout",
          "text": [
            "'appsheet data(4 2-4 3) (1).gsheet'\n",
            "'appsheet data(4 2-4 3).csv'\n",
            "'appsheet data(4 2-4 3).gsheet'\n",
            "'canvassing data (4:9-4:10).csv'\n",
            "'canvassing data (4:9-4:10).gsheet'\n",
            "'Churchill and Cowper.csv'\n",
            "'Churchill and Cowper.gsheet'\n",
            "'Menlo_park_M_Z(4 9-4 10).csv'\n",
            "'Menlo_park_M_Z(4:9-4:10).csv'\n",
            "'Menlo_park_M_Z(4 9-4 10).gsheet'\n",
            "'Pacifica_May_6 (1).csv'\n",
            " Pacifica_May_6.csv\n",
            " Pacifica_May_6.gsheet\n",
            " Pacifica_May_6.xlsx\n",
            " San_Jose_Apr_30.csv\n",
            " San_Jose_Apr_30.xlsx\n",
            "'Selby_Stockbridge_Alameda_de las Pulgas_5_16.csv'\n",
            " voterid_contactid_hubspot.csv\n"
          ]
        }
      ]
    },
    {
      "cell_type": "markdown",
      "source": [
        "### import"
      ],
      "metadata": {
        "id": "hjFtjBPvVFQl"
      }
    },
    {
      "cell_type": "code",
      "execution_count": null,
      "metadata": {
        "colab": {
          "base_uri": "https://localhost:8080/",
          "height": 461
        },
        "id": "4-5zZAHLuQ_m",
        "outputId": "48f5e2d5-8f7f-42b9-b44f-ae8c63c21b29"
      },
      "outputs": [
        {
          "output_type": "stream",
          "name": "stdout",
          "text": [
            "(17, 39)\n"
          ]
        },
        {
          "output_type": "execute_result",
          "data": {
            "text/plain": [
              "    VoterID       LastName        FirstName                     Name  \\\n",
              "0  97529694        Gianoli  Carmen Patricia  Gianoli Carmen Patricia   \n",
              "1  94010792        Darmody             Jean             Darmody Jean   \n",
              "2  97202837        Preston            Debra            Preston Debra   \n",
              "3  92071522         Lasher           Dorrie            Lasher Dorrie   \n",
              "4  89007049  Amable Olague            Renee      Amable Olague Renee   \n",
              "\n",
              "     ResidenceAddress  UnitNumber ResidenceCity StreetName  ResidenceZipCode  \\\n",
              "0  719 Linda Mar Blvd         NaN      Pacifica  Linda Mar             94044   \n",
              "1  767 Linda Mar Blvd         NaN      Pacifica  Linda Mar             94044   \n",
              "2  752 Linda Mar Blvd         NaN      Pacifica  Linda Mar             94044   \n",
              "3  776 Linda Mar Blvd         NaN      Pacifica  Linda Mar             94044   \n",
              "4  760 Linda Mar Blvd         NaN      Pacifica  Linda Mar             94044   \n",
              "\n",
              "                 PartyName  Age  Talk?  Left flier?  Moved?  Abortion?  \\\n",
              "0               Democratic   64  False         True     NaN        NaN   \n",
              "1               Democratic   75  False         True     NaN        NaN   \n",
              "2  NPP-No Party Preference   64  False         True     NaN        NaN   \n",
              "3               Democratic   73  False         True     NaN        NaN   \n",
              "4               Democratic   65  False         True     NaN        NaN   \n",
              "\n",
              "   Budget deficit? Climate change?  COVID-19 outbreak?  Crime?  \\\n",
              "0              NaN             NaN                 NaN     NaN   \n",
              "1              NaN             NaN                 NaN     NaN   \n",
              "2              NaN             NaN                 NaN     NaN   \n",
              "3              NaN             NaN                 NaN     NaN   \n",
              "4              NaN             NaN                 NaN     NaN   \n",
              "\n",
              "   Criminal justice system?  Drug addiction?  Drought?  Economy?  Education?  \\\n",
              "0                       NaN              NaN       NaN       NaN         NaN   \n",
              "1                       NaN              NaN       NaN       NaN         NaN   \n",
              "2                       NaN              NaN       NaN       NaN         NaN   \n",
              "3                       NaN              NaN       NaN       NaN         NaN   \n",
              "4                       NaN              NaN       NaN       NaN         NaN   \n",
              "\n",
              "   Global trade?  Health care?  Immigration? Inflation?  Job?  Military?  \\\n",
              "0            NaN           NaN           NaN        NaN   NaN        NaN   \n",
              "1            NaN           NaN           NaN        NaN   NaN        NaN   \n",
              "2            NaN           NaN           NaN        NaN   NaN        NaN   \n",
              "3            NaN           NaN           NaN        NaN   NaN        NaN   \n",
              "4            NaN           NaN           NaN        NaN   NaN        NaN   \n",
              "\n",
              "  Political system?  Poverty? Race?  Social Security?  Terrorism?  Ukraine?  \\\n",
              "0               NaN       NaN   NaN               NaN         NaN       NaN   \n",
              "1               NaN       NaN   NaN               NaN         NaN       NaN   \n",
              "2               NaN       NaN   NaN               NaN         NaN       NaN   \n",
              "3               NaN       NaN   NaN               NaN         NaN       NaN   \n",
              "4               NaN       NaN   NaN               NaN         NaN       NaN   \n",
              "\n",
              "   Voter right?  Others Support (Y/N)?  \n",
              "0           NaN     NaN            NaN  \n",
              "1           NaN     NaN            NaN  \n",
              "2           NaN     NaN            NaN  \n",
              "3           NaN     NaN            NaN  \n",
              "4           NaN     NaN            NaN  "
            ],
            "text/html": [
              "\n",
              "  <div id=\"df-9eb55c99-23ab-4c27-8b4b-5169919d35ee\">\n",
              "    <div class=\"colab-df-container\">\n",
              "      <div>\n",
              "<style scoped>\n",
              "    .dataframe tbody tr th:only-of-type {\n",
              "        vertical-align: middle;\n",
              "    }\n",
              "\n",
              "    .dataframe tbody tr th {\n",
              "        vertical-align: top;\n",
              "    }\n",
              "\n",
              "    .dataframe thead th {\n",
              "        text-align: right;\n",
              "    }\n",
              "</style>\n",
              "<table border=\"1\" class=\"dataframe\">\n",
              "  <thead>\n",
              "    <tr style=\"text-align: right;\">\n",
              "      <th></th>\n",
              "      <th>VoterID</th>\n",
              "      <th>LastName</th>\n",
              "      <th>FirstName</th>\n",
              "      <th>Name</th>\n",
              "      <th>ResidenceAddress</th>\n",
              "      <th>UnitNumber</th>\n",
              "      <th>ResidenceCity</th>\n",
              "      <th>StreetName</th>\n",
              "      <th>ResidenceZipCode</th>\n",
              "      <th>PartyName</th>\n",
              "      <th>Age</th>\n",
              "      <th>Talk?</th>\n",
              "      <th>Left flier?</th>\n",
              "      <th>Moved?</th>\n",
              "      <th>Abortion?</th>\n",
              "      <th>Budget deficit?</th>\n",
              "      <th>Climate change?</th>\n",
              "      <th>COVID-19 outbreak?</th>\n",
              "      <th>Crime?</th>\n",
              "      <th>Criminal justice system?</th>\n",
              "      <th>Drug addiction?</th>\n",
              "      <th>Drought?</th>\n",
              "      <th>Economy?</th>\n",
              "      <th>Education?</th>\n",
              "      <th>Global trade?</th>\n",
              "      <th>Health care?</th>\n",
              "      <th>Immigration?</th>\n",
              "      <th>Inflation?</th>\n",
              "      <th>Job?</th>\n",
              "      <th>Military?</th>\n",
              "      <th>Political system?</th>\n",
              "      <th>Poverty?</th>\n",
              "      <th>Race?</th>\n",
              "      <th>Social Security?</th>\n",
              "      <th>Terrorism?</th>\n",
              "      <th>Ukraine?</th>\n",
              "      <th>Voter right?</th>\n",
              "      <th>Others</th>\n",
              "      <th>Support (Y/N)?</th>\n",
              "    </tr>\n",
              "  </thead>\n",
              "  <tbody>\n",
              "    <tr>\n",
              "      <th>0</th>\n",
              "      <td>97529694</td>\n",
              "      <td>Gianoli</td>\n",
              "      <td>Carmen Patricia</td>\n",
              "      <td>Gianoli Carmen Patricia</td>\n",
              "      <td>719 Linda Mar Blvd</td>\n",
              "      <td>NaN</td>\n",
              "      <td>Pacifica</td>\n",
              "      <td>Linda Mar</td>\n",
              "      <td>94044</td>\n",
              "      <td>Democratic</td>\n",
              "      <td>64</td>\n",
              "      <td>False</td>\n",
              "      <td>True</td>\n",
              "      <td>NaN</td>\n",
              "      <td>NaN</td>\n",
              "      <td>NaN</td>\n",
              "      <td>NaN</td>\n",
              "      <td>NaN</td>\n",
              "      <td>NaN</td>\n",
              "      <td>NaN</td>\n",
              "      <td>NaN</td>\n",
              "      <td>NaN</td>\n",
              "      <td>NaN</td>\n",
              "      <td>NaN</td>\n",
              "      <td>NaN</td>\n",
              "      <td>NaN</td>\n",
              "      <td>NaN</td>\n",
              "      <td>NaN</td>\n",
              "      <td>NaN</td>\n",
              "      <td>NaN</td>\n",
              "      <td>NaN</td>\n",
              "      <td>NaN</td>\n",
              "      <td>NaN</td>\n",
              "      <td>NaN</td>\n",
              "      <td>NaN</td>\n",
              "      <td>NaN</td>\n",
              "      <td>NaN</td>\n",
              "      <td>NaN</td>\n",
              "      <td>NaN</td>\n",
              "    </tr>\n",
              "    <tr>\n",
              "      <th>1</th>\n",
              "      <td>94010792</td>\n",
              "      <td>Darmody</td>\n",
              "      <td>Jean</td>\n",
              "      <td>Darmody Jean</td>\n",
              "      <td>767 Linda Mar Blvd</td>\n",
              "      <td>NaN</td>\n",
              "      <td>Pacifica</td>\n",
              "      <td>Linda Mar</td>\n",
              "      <td>94044</td>\n",
              "      <td>Democratic</td>\n",
              "      <td>75</td>\n",
              "      <td>False</td>\n",
              "      <td>True</td>\n",
              "      <td>NaN</td>\n",
              "      <td>NaN</td>\n",
              "      <td>NaN</td>\n",
              "      <td>NaN</td>\n",
              "      <td>NaN</td>\n",
              "      <td>NaN</td>\n",
              "      <td>NaN</td>\n",
              "      <td>NaN</td>\n",
              "      <td>NaN</td>\n",
              "      <td>NaN</td>\n",
              "      <td>NaN</td>\n",
              "      <td>NaN</td>\n",
              "      <td>NaN</td>\n",
              "      <td>NaN</td>\n",
              "      <td>NaN</td>\n",
              "      <td>NaN</td>\n",
              "      <td>NaN</td>\n",
              "      <td>NaN</td>\n",
              "      <td>NaN</td>\n",
              "      <td>NaN</td>\n",
              "      <td>NaN</td>\n",
              "      <td>NaN</td>\n",
              "      <td>NaN</td>\n",
              "      <td>NaN</td>\n",
              "      <td>NaN</td>\n",
              "      <td>NaN</td>\n",
              "    </tr>\n",
              "    <tr>\n",
              "      <th>2</th>\n",
              "      <td>97202837</td>\n",
              "      <td>Preston</td>\n",
              "      <td>Debra</td>\n",
              "      <td>Preston Debra</td>\n",
              "      <td>752 Linda Mar Blvd</td>\n",
              "      <td>NaN</td>\n",
              "      <td>Pacifica</td>\n",
              "      <td>Linda Mar</td>\n",
              "      <td>94044</td>\n",
              "      <td>NPP-No Party Preference</td>\n",
              "      <td>64</td>\n",
              "      <td>False</td>\n",
              "      <td>True</td>\n",
              "      <td>NaN</td>\n",
              "      <td>NaN</td>\n",
              "      <td>NaN</td>\n",
              "      <td>NaN</td>\n",
              "      <td>NaN</td>\n",
              "      <td>NaN</td>\n",
              "      <td>NaN</td>\n",
              "      <td>NaN</td>\n",
              "      <td>NaN</td>\n",
              "      <td>NaN</td>\n",
              "      <td>NaN</td>\n",
              "      <td>NaN</td>\n",
              "      <td>NaN</td>\n",
              "      <td>NaN</td>\n",
              "      <td>NaN</td>\n",
              "      <td>NaN</td>\n",
              "      <td>NaN</td>\n",
              "      <td>NaN</td>\n",
              "      <td>NaN</td>\n",
              "      <td>NaN</td>\n",
              "      <td>NaN</td>\n",
              "      <td>NaN</td>\n",
              "      <td>NaN</td>\n",
              "      <td>NaN</td>\n",
              "      <td>NaN</td>\n",
              "      <td>NaN</td>\n",
              "    </tr>\n",
              "    <tr>\n",
              "      <th>3</th>\n",
              "      <td>92071522</td>\n",
              "      <td>Lasher</td>\n",
              "      <td>Dorrie</td>\n",
              "      <td>Lasher Dorrie</td>\n",
              "      <td>776 Linda Mar Blvd</td>\n",
              "      <td>NaN</td>\n",
              "      <td>Pacifica</td>\n",
              "      <td>Linda Mar</td>\n",
              "      <td>94044</td>\n",
              "      <td>Democratic</td>\n",
              "      <td>73</td>\n",
              "      <td>False</td>\n",
              "      <td>True</td>\n",
              "      <td>NaN</td>\n",
              "      <td>NaN</td>\n",
              "      <td>NaN</td>\n",
              "      <td>NaN</td>\n",
              "      <td>NaN</td>\n",
              "      <td>NaN</td>\n",
              "      <td>NaN</td>\n",
              "      <td>NaN</td>\n",
              "      <td>NaN</td>\n",
              "      <td>NaN</td>\n",
              "      <td>NaN</td>\n",
              "      <td>NaN</td>\n",
              "      <td>NaN</td>\n",
              "      <td>NaN</td>\n",
              "      <td>NaN</td>\n",
              "      <td>NaN</td>\n",
              "      <td>NaN</td>\n",
              "      <td>NaN</td>\n",
              "      <td>NaN</td>\n",
              "      <td>NaN</td>\n",
              "      <td>NaN</td>\n",
              "      <td>NaN</td>\n",
              "      <td>NaN</td>\n",
              "      <td>NaN</td>\n",
              "      <td>NaN</td>\n",
              "      <td>NaN</td>\n",
              "    </tr>\n",
              "    <tr>\n",
              "      <th>4</th>\n",
              "      <td>89007049</td>\n",
              "      <td>Amable Olague</td>\n",
              "      <td>Renee</td>\n",
              "      <td>Amable Olague Renee</td>\n",
              "      <td>760 Linda Mar Blvd</td>\n",
              "      <td>NaN</td>\n",
              "      <td>Pacifica</td>\n",
              "      <td>Linda Mar</td>\n",
              "      <td>94044</td>\n",
              "      <td>Democratic</td>\n",
              "      <td>65</td>\n",
              "      <td>False</td>\n",
              "      <td>True</td>\n",
              "      <td>NaN</td>\n",
              "      <td>NaN</td>\n",
              "      <td>NaN</td>\n",
              "      <td>NaN</td>\n",
              "      <td>NaN</td>\n",
              "      <td>NaN</td>\n",
              "      <td>NaN</td>\n",
              "      <td>NaN</td>\n",
              "      <td>NaN</td>\n",
              "      <td>NaN</td>\n",
              "      <td>NaN</td>\n",
              "      <td>NaN</td>\n",
              "      <td>NaN</td>\n",
              "      <td>NaN</td>\n",
              "      <td>NaN</td>\n",
              "      <td>NaN</td>\n",
              "      <td>NaN</td>\n",
              "      <td>NaN</td>\n",
              "      <td>NaN</td>\n",
              "      <td>NaN</td>\n",
              "      <td>NaN</td>\n",
              "      <td>NaN</td>\n",
              "      <td>NaN</td>\n",
              "      <td>NaN</td>\n",
              "      <td>NaN</td>\n",
              "      <td>NaN</td>\n",
              "    </tr>\n",
              "  </tbody>\n",
              "</table>\n",
              "</div>\n",
              "      <button class=\"colab-df-convert\" onclick=\"convertToInteractive('df-9eb55c99-23ab-4c27-8b4b-5169919d35ee')\"\n",
              "              title=\"Convert this dataframe to an interactive table.\"\n",
              "              style=\"display:none;\">\n",
              "        \n",
              "  <svg xmlns=\"http://www.w3.org/2000/svg\" height=\"24px\"viewBox=\"0 0 24 24\"\n",
              "       width=\"24px\">\n",
              "    <path d=\"M0 0h24v24H0V0z\" fill=\"none\"/>\n",
              "    <path d=\"M18.56 5.44l.94 2.06.94-2.06 2.06-.94-2.06-.94-.94-2.06-.94 2.06-2.06.94zm-11 1L8.5 8.5l.94-2.06 2.06-.94-2.06-.94L8.5 2.5l-.94 2.06-2.06.94zm10 10l.94 2.06.94-2.06 2.06-.94-2.06-.94-.94-2.06-.94 2.06-2.06.94z\"/><path d=\"M17.41 7.96l-1.37-1.37c-.4-.4-.92-.59-1.43-.59-.52 0-1.04.2-1.43.59L10.3 9.45l-7.72 7.72c-.78.78-.78 2.05 0 2.83L4 21.41c.39.39.9.59 1.41.59.51 0 1.02-.2 1.41-.59l7.78-7.78 2.81-2.81c.8-.78.8-2.07 0-2.86zM5.41 20L4 18.59l7.72-7.72 1.47 1.35L5.41 20z\"/>\n",
              "  </svg>\n",
              "      </button>\n",
              "      \n",
              "  <style>\n",
              "    .colab-df-container {\n",
              "      display:flex;\n",
              "      flex-wrap:wrap;\n",
              "      gap: 12px;\n",
              "    }\n",
              "\n",
              "    .colab-df-convert {\n",
              "      background-color: #E8F0FE;\n",
              "      border: none;\n",
              "      border-radius: 50%;\n",
              "      cursor: pointer;\n",
              "      display: none;\n",
              "      fill: #1967D2;\n",
              "      height: 32px;\n",
              "      padding: 0 0 0 0;\n",
              "      width: 32px;\n",
              "    }\n",
              "\n",
              "    .colab-df-convert:hover {\n",
              "      background-color: #E2EBFA;\n",
              "      box-shadow: 0px 1px 2px rgba(60, 64, 67, 0.3), 0px 1px 3px 1px rgba(60, 64, 67, 0.15);\n",
              "      fill: #174EA6;\n",
              "    }\n",
              "\n",
              "    [theme=dark] .colab-df-convert {\n",
              "      background-color: #3B4455;\n",
              "      fill: #D2E3FC;\n",
              "    }\n",
              "\n",
              "    [theme=dark] .colab-df-convert:hover {\n",
              "      background-color: #434B5C;\n",
              "      box-shadow: 0px 1px 3px 1px rgba(0, 0, 0, 0.15);\n",
              "      filter: drop-shadow(0px 1px 2px rgba(0, 0, 0, 0.3));\n",
              "      fill: #FFFFFF;\n",
              "    }\n",
              "  </style>\n",
              "\n",
              "      <script>\n",
              "        const buttonEl =\n",
              "          document.querySelector('#df-9eb55c99-23ab-4c27-8b4b-5169919d35ee button.colab-df-convert');\n",
              "        buttonEl.style.display =\n",
              "          google.colab.kernel.accessAllowed ? 'block' : 'none';\n",
              "\n",
              "        async function convertToInteractive(key) {\n",
              "          const element = document.querySelector('#df-9eb55c99-23ab-4c27-8b4b-5169919d35ee');\n",
              "          const dataTable =\n",
              "            await google.colab.kernel.invokeFunction('convertToInteractive',\n",
              "                                                     [key], {});\n",
              "          if (!dataTable) return;\n",
              "\n",
              "          const docLinkHtml = 'Like what you see? Visit the ' +\n",
              "            '<a target=\"_blank\" href=https://colab.research.google.com/notebooks/data_table.ipynb>data table notebook</a>'\n",
              "            + ' to learn more about interactive tables.';\n",
              "          element.innerHTML = '';\n",
              "          dataTable['output_type'] = 'display_data';\n",
              "          await google.colab.output.renderOutput(dataTable, element);\n",
              "          const docLink = document.createElement('div');\n",
              "          docLink.innerHTML = docLinkHtml;\n",
              "          element.appendChild(docLink);\n",
              "        }\n",
              "      </script>\n",
              "    </div>\n",
              "  </div>\n",
              "  "
            ]
          },
          "metadata": {},
          "execution_count": 71
        }
      ],
      "source": [
        "data_from_appsheet = pd.read_csv('Pacifica_May_6 (1).csv')\n",
        "print(data_from_appsheet.shape)\n",
        "data_from_appsheet.head()\n"
      ]
    },
    {
      "cell_type": "code",
      "execution_count": null,
      "metadata": {
        "id": "aThcio9TugOe"
      },
      "outputs": [],
      "source": [
        "voter_id_appsheet = data_from_appsheet['VoterID'] "
      ]
    },
    {
      "cell_type": "code",
      "execution_count": null,
      "metadata": {
        "id": "P6vejd3RH-35"
      },
      "outputs": [],
      "source": [
        "data_from_HubSpot = pd.read_csv('voterid_contactid_hubspot.csv')"
      ]
    },
    {
      "cell_type": "code",
      "execution_count": null,
      "metadata": {
        "id": "3bA6NFBXINTv",
        "colab": {
          "base_uri": "https://localhost:8080/",
          "height": 206
        },
        "outputId": "ebb5a35b-dd26-401c-e8d1-b18ee47b8f64"
      },
      "outputs": [
        {
          "output_type": "execute_result",
          "data": {
            "text/plain": [
              "   Unnamed: 0  voter_id  contact_vid\n",
              "0           0    634113      3326851\n",
              "1           1   3052890        35585\n",
              "2           2   1786686       174105\n",
              "3           3   2424526       174107\n",
              "4           4   2363216       174108"
            ],
            "text/html": [
              "\n",
              "  <div id=\"df-b32da523-ed2e-4a94-bc46-4f5bb9c7099e\">\n",
              "    <div class=\"colab-df-container\">\n",
              "      <div>\n",
              "<style scoped>\n",
              "    .dataframe tbody tr th:only-of-type {\n",
              "        vertical-align: middle;\n",
              "    }\n",
              "\n",
              "    .dataframe tbody tr th {\n",
              "        vertical-align: top;\n",
              "    }\n",
              "\n",
              "    .dataframe thead th {\n",
              "        text-align: right;\n",
              "    }\n",
              "</style>\n",
              "<table border=\"1\" class=\"dataframe\">\n",
              "  <thead>\n",
              "    <tr style=\"text-align: right;\">\n",
              "      <th></th>\n",
              "      <th>Unnamed: 0</th>\n",
              "      <th>voter_id</th>\n",
              "      <th>contact_vid</th>\n",
              "    </tr>\n",
              "  </thead>\n",
              "  <tbody>\n",
              "    <tr>\n",
              "      <th>0</th>\n",
              "      <td>0</td>\n",
              "      <td>634113</td>\n",
              "      <td>3326851</td>\n",
              "    </tr>\n",
              "    <tr>\n",
              "      <th>1</th>\n",
              "      <td>1</td>\n",
              "      <td>3052890</td>\n",
              "      <td>35585</td>\n",
              "    </tr>\n",
              "    <tr>\n",
              "      <th>2</th>\n",
              "      <td>2</td>\n",
              "      <td>1786686</td>\n",
              "      <td>174105</td>\n",
              "    </tr>\n",
              "    <tr>\n",
              "      <th>3</th>\n",
              "      <td>3</td>\n",
              "      <td>2424526</td>\n",
              "      <td>174107</td>\n",
              "    </tr>\n",
              "    <tr>\n",
              "      <th>4</th>\n",
              "      <td>4</td>\n",
              "      <td>2363216</td>\n",
              "      <td>174108</td>\n",
              "    </tr>\n",
              "  </tbody>\n",
              "</table>\n",
              "</div>\n",
              "      <button class=\"colab-df-convert\" onclick=\"convertToInteractive('df-b32da523-ed2e-4a94-bc46-4f5bb9c7099e')\"\n",
              "              title=\"Convert this dataframe to an interactive table.\"\n",
              "              style=\"display:none;\">\n",
              "        \n",
              "  <svg xmlns=\"http://www.w3.org/2000/svg\" height=\"24px\"viewBox=\"0 0 24 24\"\n",
              "       width=\"24px\">\n",
              "    <path d=\"M0 0h24v24H0V0z\" fill=\"none\"/>\n",
              "    <path d=\"M18.56 5.44l.94 2.06.94-2.06 2.06-.94-2.06-.94-.94-2.06-.94 2.06-2.06.94zm-11 1L8.5 8.5l.94-2.06 2.06-.94-2.06-.94L8.5 2.5l-.94 2.06-2.06.94zm10 10l.94 2.06.94-2.06 2.06-.94-2.06-.94-.94-2.06-.94 2.06-2.06.94z\"/><path d=\"M17.41 7.96l-1.37-1.37c-.4-.4-.92-.59-1.43-.59-.52 0-1.04.2-1.43.59L10.3 9.45l-7.72 7.72c-.78.78-.78 2.05 0 2.83L4 21.41c.39.39.9.59 1.41.59.51 0 1.02-.2 1.41-.59l7.78-7.78 2.81-2.81c.8-.78.8-2.07 0-2.86zM5.41 20L4 18.59l7.72-7.72 1.47 1.35L5.41 20z\"/>\n",
              "  </svg>\n",
              "      </button>\n",
              "      \n",
              "  <style>\n",
              "    .colab-df-container {\n",
              "      display:flex;\n",
              "      flex-wrap:wrap;\n",
              "      gap: 12px;\n",
              "    }\n",
              "\n",
              "    .colab-df-convert {\n",
              "      background-color: #E8F0FE;\n",
              "      border: none;\n",
              "      border-radius: 50%;\n",
              "      cursor: pointer;\n",
              "      display: none;\n",
              "      fill: #1967D2;\n",
              "      height: 32px;\n",
              "      padding: 0 0 0 0;\n",
              "      width: 32px;\n",
              "    }\n",
              "\n",
              "    .colab-df-convert:hover {\n",
              "      background-color: #E2EBFA;\n",
              "      box-shadow: 0px 1px 2px rgba(60, 64, 67, 0.3), 0px 1px 3px 1px rgba(60, 64, 67, 0.15);\n",
              "      fill: #174EA6;\n",
              "    }\n",
              "\n",
              "    [theme=dark] .colab-df-convert {\n",
              "      background-color: #3B4455;\n",
              "      fill: #D2E3FC;\n",
              "    }\n",
              "\n",
              "    [theme=dark] .colab-df-convert:hover {\n",
              "      background-color: #434B5C;\n",
              "      box-shadow: 0px 1px 3px 1px rgba(0, 0, 0, 0.15);\n",
              "      filter: drop-shadow(0px 1px 2px rgba(0, 0, 0, 0.3));\n",
              "      fill: #FFFFFF;\n",
              "    }\n",
              "  </style>\n",
              "\n",
              "      <script>\n",
              "        const buttonEl =\n",
              "          document.querySelector('#df-b32da523-ed2e-4a94-bc46-4f5bb9c7099e button.colab-df-convert');\n",
              "        buttonEl.style.display =\n",
              "          google.colab.kernel.accessAllowed ? 'block' : 'none';\n",
              "\n",
              "        async function convertToInteractive(key) {\n",
              "          const element = document.querySelector('#df-b32da523-ed2e-4a94-bc46-4f5bb9c7099e');\n",
              "          const dataTable =\n",
              "            await google.colab.kernel.invokeFunction('convertToInteractive',\n",
              "                                                     [key], {});\n",
              "          if (!dataTable) return;\n",
              "\n",
              "          const docLinkHtml = 'Like what you see? Visit the ' +\n",
              "            '<a target=\"_blank\" href=https://colab.research.google.com/notebooks/data_table.ipynb>data table notebook</a>'\n",
              "            + ' to learn more about interactive tables.';\n",
              "          element.innerHTML = '';\n",
              "          dataTable['output_type'] = 'display_data';\n",
              "          await google.colab.output.renderOutput(dataTable, element);\n",
              "          const docLink = document.createElement('div');\n",
              "          docLink.innerHTML = docLinkHtml;\n",
              "          element.appendChild(docLink);\n",
              "        }\n",
              "      </script>\n",
              "    </div>\n",
              "  </div>\n",
              "  "
            ]
          },
          "metadata": {},
          "execution_count": 74
        }
      ],
      "source": [
        "data_from_HubSpot.head()\n"
      ]
    },
    {
      "cell_type": "code",
      "execution_count": null,
      "metadata": {
        "id": "BSDWNfrvQFY6"
      },
      "outputs": [],
      "source": [
        "voter_hubspot = dict(zip(data_from_HubSpot.voter_id, data_from_HubSpot.contact_vid))"
      ]
    },
    {
      "cell_type": "code",
      "execution_count": null,
      "metadata": {
        "id": "_0jZOyQciPTD"
      },
      "outputs": [],
      "source": [
        "\n",
        "voter_id_vid = {}\n",
        "\n",
        "for voter in voter_id_appsheet:\n",
        "  if voter in voter_hubspot.keys():\n",
        "    voter_id_vid.update({voter: voter_hubspot[voter]})\n",
        "  else:\n",
        "    pass\n",
        "\n",
        "\n",
        "\n"
      ]
    },
    {
      "cell_type": "code",
      "execution_count": null,
      "metadata": {
        "id": "gOskdnr7RUe4"
      },
      "outputs": [],
      "source": [
        "voter_id_vid"
      ]
    },
    {
      "cell_type": "code",
      "execution_count": null,
      "metadata": {
        "id": "Jenvx6Irbm7p"
      },
      "outputs": [],
      "source": [
        "vid_match = []\n",
        "for voter in voter_id_appsheet:\n",
        "  # print(voter)\n",
        "  if voter in voter_id_vid.keys():\n",
        "    # print(\"yes\")\n",
        "    vid_match.append(voter_id_vid[voter])\n",
        "  else:\n",
        "    vid_match.append(float(\"NaN\"))\n",
        "\n",
        "\n"
      ]
    },
    {
      "cell_type": "code",
      "execution_count": null,
      "metadata": {
        "id": "uIGs5sm_ceA_"
      },
      "outputs": [],
      "source": [
        "vid_match"
      ]
    },
    {
      "cell_type": "code",
      "execution_count": null,
      "metadata": {
        "id": "yk8LSC2rdO2p"
      },
      "outputs": [],
      "source": [
        "data_from_appsheet['vid'] = vid_match"
      ]
    },
    {
      "cell_type": "code",
      "execution_count": null,
      "metadata": {
        "colab": {
          "base_uri": "https://localhost:8080/",
          "height": 444
        },
        "id": "1PjdWGlodW1b",
        "outputId": "2cec64d1-1bfa-4d9a-8c23-1acd787af40c"
      },
      "outputs": [
        {
          "output_type": "execute_result",
          "data": {
            "text/plain": [
              "    VoterID       LastName        FirstName                     Name  \\\n",
              "0  97529694        Gianoli  Carmen Patricia  Gianoli Carmen Patricia   \n",
              "1  94010792        Darmody             Jean             Darmody Jean   \n",
              "2  97202837        Preston            Debra            Preston Debra   \n",
              "3  92071522         Lasher           Dorrie            Lasher Dorrie   \n",
              "4  89007049  Amable Olague            Renee      Amable Olague Renee   \n",
              "\n",
              "     ResidenceAddress  UnitNumber ResidenceCity StreetName  ResidenceZipCode  \\\n",
              "0  719 Linda Mar Blvd         NaN      Pacifica  Linda Mar             94044   \n",
              "1  767 Linda Mar Blvd         NaN      Pacifica  Linda Mar             94044   \n",
              "2  752 Linda Mar Blvd         NaN      Pacifica  Linda Mar             94044   \n",
              "3  776 Linda Mar Blvd         NaN      Pacifica  Linda Mar             94044   \n",
              "4  760 Linda Mar Blvd         NaN      Pacifica  Linda Mar             94044   \n",
              "\n",
              "                 PartyName  Age  Talk?  Left flier?  Moved?  Abortion?  \\\n",
              "0               Democratic   64  False         True     NaN        NaN   \n",
              "1               Democratic   75  False         True     NaN        NaN   \n",
              "2  NPP-No Party Preference   64  False         True     NaN        NaN   \n",
              "3               Democratic   73  False         True     NaN        NaN   \n",
              "4               Democratic   65  False         True     NaN        NaN   \n",
              "\n",
              "   Budget deficit? Climate change?  COVID-19 outbreak?  Crime?  \\\n",
              "0              NaN             NaN                 NaN     NaN   \n",
              "1              NaN             NaN                 NaN     NaN   \n",
              "2              NaN             NaN                 NaN     NaN   \n",
              "3              NaN             NaN                 NaN     NaN   \n",
              "4              NaN             NaN                 NaN     NaN   \n",
              "\n",
              "   Criminal justice system?  Drug addiction?  Drought?  Economy?  Education?  \\\n",
              "0                       NaN              NaN       NaN       NaN         NaN   \n",
              "1                       NaN              NaN       NaN       NaN         NaN   \n",
              "2                       NaN              NaN       NaN       NaN         NaN   \n",
              "3                       NaN              NaN       NaN       NaN         NaN   \n",
              "4                       NaN              NaN       NaN       NaN         NaN   \n",
              "\n",
              "   Global trade?  Health care?  Immigration? Inflation?  Job?  Military?  \\\n",
              "0            NaN           NaN           NaN        NaN   NaN        NaN   \n",
              "1            NaN           NaN           NaN        NaN   NaN        NaN   \n",
              "2            NaN           NaN           NaN        NaN   NaN        NaN   \n",
              "3            NaN           NaN           NaN        NaN   NaN        NaN   \n",
              "4            NaN           NaN           NaN        NaN   NaN        NaN   \n",
              "\n",
              "  Political system?  Poverty? Race?  Social Security?  Terrorism?  Ukraine?  \\\n",
              "0               NaN       NaN   NaN               NaN         NaN       NaN   \n",
              "1               NaN       NaN   NaN               NaN         NaN       NaN   \n",
              "2               NaN       NaN   NaN               NaN         NaN       NaN   \n",
              "3               NaN       NaN   NaN               NaN         NaN       NaN   \n",
              "4               NaN       NaN   NaN               NaN         NaN       NaN   \n",
              "\n",
              "   Voter right?  Others Support (Y/N)?      vid  \n",
              "0           NaN     NaN            NaN  3710336  \n",
              "1           NaN     NaN            NaN  3714483  \n",
              "2           NaN     NaN            NaN  3718806  \n",
              "3           NaN     NaN            NaN  3719652  \n",
              "4           NaN     NaN            NaN  3718777  "
            ],
            "text/html": [
              "\n",
              "  <div id=\"df-4e7e11e9-f6fa-4ce3-987c-7bc315684dba\">\n",
              "    <div class=\"colab-df-container\">\n",
              "      <div>\n",
              "<style scoped>\n",
              "    .dataframe tbody tr th:only-of-type {\n",
              "        vertical-align: middle;\n",
              "    }\n",
              "\n",
              "    .dataframe tbody tr th {\n",
              "        vertical-align: top;\n",
              "    }\n",
              "\n",
              "    .dataframe thead th {\n",
              "        text-align: right;\n",
              "    }\n",
              "</style>\n",
              "<table border=\"1\" class=\"dataframe\">\n",
              "  <thead>\n",
              "    <tr style=\"text-align: right;\">\n",
              "      <th></th>\n",
              "      <th>VoterID</th>\n",
              "      <th>LastName</th>\n",
              "      <th>FirstName</th>\n",
              "      <th>Name</th>\n",
              "      <th>ResidenceAddress</th>\n",
              "      <th>UnitNumber</th>\n",
              "      <th>ResidenceCity</th>\n",
              "      <th>StreetName</th>\n",
              "      <th>ResidenceZipCode</th>\n",
              "      <th>PartyName</th>\n",
              "      <th>Age</th>\n",
              "      <th>Talk?</th>\n",
              "      <th>Left flier?</th>\n",
              "      <th>Moved?</th>\n",
              "      <th>Abortion?</th>\n",
              "      <th>Budget deficit?</th>\n",
              "      <th>Climate change?</th>\n",
              "      <th>COVID-19 outbreak?</th>\n",
              "      <th>Crime?</th>\n",
              "      <th>Criminal justice system?</th>\n",
              "      <th>Drug addiction?</th>\n",
              "      <th>Drought?</th>\n",
              "      <th>Economy?</th>\n",
              "      <th>Education?</th>\n",
              "      <th>Global trade?</th>\n",
              "      <th>Health care?</th>\n",
              "      <th>Immigration?</th>\n",
              "      <th>Inflation?</th>\n",
              "      <th>Job?</th>\n",
              "      <th>Military?</th>\n",
              "      <th>Political system?</th>\n",
              "      <th>Poverty?</th>\n",
              "      <th>Race?</th>\n",
              "      <th>Social Security?</th>\n",
              "      <th>Terrorism?</th>\n",
              "      <th>Ukraine?</th>\n",
              "      <th>Voter right?</th>\n",
              "      <th>Others</th>\n",
              "      <th>Support (Y/N)?</th>\n",
              "      <th>vid</th>\n",
              "    </tr>\n",
              "  </thead>\n",
              "  <tbody>\n",
              "    <tr>\n",
              "      <th>0</th>\n",
              "      <td>97529694</td>\n",
              "      <td>Gianoli</td>\n",
              "      <td>Carmen Patricia</td>\n",
              "      <td>Gianoli Carmen Patricia</td>\n",
              "      <td>719 Linda Mar Blvd</td>\n",
              "      <td>NaN</td>\n",
              "      <td>Pacifica</td>\n",
              "      <td>Linda Mar</td>\n",
              "      <td>94044</td>\n",
              "      <td>Democratic</td>\n",
              "      <td>64</td>\n",
              "      <td>False</td>\n",
              "      <td>True</td>\n",
              "      <td>NaN</td>\n",
              "      <td>NaN</td>\n",
              "      <td>NaN</td>\n",
              "      <td>NaN</td>\n",
              "      <td>NaN</td>\n",
              "      <td>NaN</td>\n",
              "      <td>NaN</td>\n",
              "      <td>NaN</td>\n",
              "      <td>NaN</td>\n",
              "      <td>NaN</td>\n",
              "      <td>NaN</td>\n",
              "      <td>NaN</td>\n",
              "      <td>NaN</td>\n",
              "      <td>NaN</td>\n",
              "      <td>NaN</td>\n",
              "      <td>NaN</td>\n",
              "      <td>NaN</td>\n",
              "      <td>NaN</td>\n",
              "      <td>NaN</td>\n",
              "      <td>NaN</td>\n",
              "      <td>NaN</td>\n",
              "      <td>NaN</td>\n",
              "      <td>NaN</td>\n",
              "      <td>NaN</td>\n",
              "      <td>NaN</td>\n",
              "      <td>NaN</td>\n",
              "      <td>3710336</td>\n",
              "    </tr>\n",
              "    <tr>\n",
              "      <th>1</th>\n",
              "      <td>94010792</td>\n",
              "      <td>Darmody</td>\n",
              "      <td>Jean</td>\n",
              "      <td>Darmody Jean</td>\n",
              "      <td>767 Linda Mar Blvd</td>\n",
              "      <td>NaN</td>\n",
              "      <td>Pacifica</td>\n",
              "      <td>Linda Mar</td>\n",
              "      <td>94044</td>\n",
              "      <td>Democratic</td>\n",
              "      <td>75</td>\n",
              "      <td>False</td>\n",
              "      <td>True</td>\n",
              "      <td>NaN</td>\n",
              "      <td>NaN</td>\n",
              "      <td>NaN</td>\n",
              "      <td>NaN</td>\n",
              "      <td>NaN</td>\n",
              "      <td>NaN</td>\n",
              "      <td>NaN</td>\n",
              "      <td>NaN</td>\n",
              "      <td>NaN</td>\n",
              "      <td>NaN</td>\n",
              "      <td>NaN</td>\n",
              "      <td>NaN</td>\n",
              "      <td>NaN</td>\n",
              "      <td>NaN</td>\n",
              "      <td>NaN</td>\n",
              "      <td>NaN</td>\n",
              "      <td>NaN</td>\n",
              "      <td>NaN</td>\n",
              "      <td>NaN</td>\n",
              "      <td>NaN</td>\n",
              "      <td>NaN</td>\n",
              "      <td>NaN</td>\n",
              "      <td>NaN</td>\n",
              "      <td>NaN</td>\n",
              "      <td>NaN</td>\n",
              "      <td>NaN</td>\n",
              "      <td>3714483</td>\n",
              "    </tr>\n",
              "    <tr>\n",
              "      <th>2</th>\n",
              "      <td>97202837</td>\n",
              "      <td>Preston</td>\n",
              "      <td>Debra</td>\n",
              "      <td>Preston Debra</td>\n",
              "      <td>752 Linda Mar Blvd</td>\n",
              "      <td>NaN</td>\n",
              "      <td>Pacifica</td>\n",
              "      <td>Linda Mar</td>\n",
              "      <td>94044</td>\n",
              "      <td>NPP-No Party Preference</td>\n",
              "      <td>64</td>\n",
              "      <td>False</td>\n",
              "      <td>True</td>\n",
              "      <td>NaN</td>\n",
              "      <td>NaN</td>\n",
              "      <td>NaN</td>\n",
              "      <td>NaN</td>\n",
              "      <td>NaN</td>\n",
              "      <td>NaN</td>\n",
              "      <td>NaN</td>\n",
              "      <td>NaN</td>\n",
              "      <td>NaN</td>\n",
              "      <td>NaN</td>\n",
              "      <td>NaN</td>\n",
              "      <td>NaN</td>\n",
              "      <td>NaN</td>\n",
              "      <td>NaN</td>\n",
              "      <td>NaN</td>\n",
              "      <td>NaN</td>\n",
              "      <td>NaN</td>\n",
              "      <td>NaN</td>\n",
              "      <td>NaN</td>\n",
              "      <td>NaN</td>\n",
              "      <td>NaN</td>\n",
              "      <td>NaN</td>\n",
              "      <td>NaN</td>\n",
              "      <td>NaN</td>\n",
              "      <td>NaN</td>\n",
              "      <td>NaN</td>\n",
              "      <td>3718806</td>\n",
              "    </tr>\n",
              "    <tr>\n",
              "      <th>3</th>\n",
              "      <td>92071522</td>\n",
              "      <td>Lasher</td>\n",
              "      <td>Dorrie</td>\n",
              "      <td>Lasher Dorrie</td>\n",
              "      <td>776 Linda Mar Blvd</td>\n",
              "      <td>NaN</td>\n",
              "      <td>Pacifica</td>\n",
              "      <td>Linda Mar</td>\n",
              "      <td>94044</td>\n",
              "      <td>Democratic</td>\n",
              "      <td>73</td>\n",
              "      <td>False</td>\n",
              "      <td>True</td>\n",
              "      <td>NaN</td>\n",
              "      <td>NaN</td>\n",
              "      <td>NaN</td>\n",
              "      <td>NaN</td>\n",
              "      <td>NaN</td>\n",
              "      <td>NaN</td>\n",
              "      <td>NaN</td>\n",
              "      <td>NaN</td>\n",
              "      <td>NaN</td>\n",
              "      <td>NaN</td>\n",
              "      <td>NaN</td>\n",
              "      <td>NaN</td>\n",
              "      <td>NaN</td>\n",
              "      <td>NaN</td>\n",
              "      <td>NaN</td>\n",
              "      <td>NaN</td>\n",
              "      <td>NaN</td>\n",
              "      <td>NaN</td>\n",
              "      <td>NaN</td>\n",
              "      <td>NaN</td>\n",
              "      <td>NaN</td>\n",
              "      <td>NaN</td>\n",
              "      <td>NaN</td>\n",
              "      <td>NaN</td>\n",
              "      <td>NaN</td>\n",
              "      <td>NaN</td>\n",
              "      <td>3719652</td>\n",
              "    </tr>\n",
              "    <tr>\n",
              "      <th>4</th>\n",
              "      <td>89007049</td>\n",
              "      <td>Amable Olague</td>\n",
              "      <td>Renee</td>\n",
              "      <td>Amable Olague Renee</td>\n",
              "      <td>760 Linda Mar Blvd</td>\n",
              "      <td>NaN</td>\n",
              "      <td>Pacifica</td>\n",
              "      <td>Linda Mar</td>\n",
              "      <td>94044</td>\n",
              "      <td>Democratic</td>\n",
              "      <td>65</td>\n",
              "      <td>False</td>\n",
              "      <td>True</td>\n",
              "      <td>NaN</td>\n",
              "      <td>NaN</td>\n",
              "      <td>NaN</td>\n",
              "      <td>NaN</td>\n",
              "      <td>NaN</td>\n",
              "      <td>NaN</td>\n",
              "      <td>NaN</td>\n",
              "      <td>NaN</td>\n",
              "      <td>NaN</td>\n",
              "      <td>NaN</td>\n",
              "      <td>NaN</td>\n",
              "      <td>NaN</td>\n",
              "      <td>NaN</td>\n",
              "      <td>NaN</td>\n",
              "      <td>NaN</td>\n",
              "      <td>NaN</td>\n",
              "      <td>NaN</td>\n",
              "      <td>NaN</td>\n",
              "      <td>NaN</td>\n",
              "      <td>NaN</td>\n",
              "      <td>NaN</td>\n",
              "      <td>NaN</td>\n",
              "      <td>NaN</td>\n",
              "      <td>NaN</td>\n",
              "      <td>NaN</td>\n",
              "      <td>NaN</td>\n",
              "      <td>3718777</td>\n",
              "    </tr>\n",
              "  </tbody>\n",
              "</table>\n",
              "</div>\n",
              "      <button class=\"colab-df-convert\" onclick=\"convertToInteractive('df-4e7e11e9-f6fa-4ce3-987c-7bc315684dba')\"\n",
              "              title=\"Convert this dataframe to an interactive table.\"\n",
              "              style=\"display:none;\">\n",
              "        \n",
              "  <svg xmlns=\"http://www.w3.org/2000/svg\" height=\"24px\"viewBox=\"0 0 24 24\"\n",
              "       width=\"24px\">\n",
              "    <path d=\"M0 0h24v24H0V0z\" fill=\"none\"/>\n",
              "    <path d=\"M18.56 5.44l.94 2.06.94-2.06 2.06-.94-2.06-.94-.94-2.06-.94 2.06-2.06.94zm-11 1L8.5 8.5l.94-2.06 2.06-.94-2.06-.94L8.5 2.5l-.94 2.06-2.06.94zm10 10l.94 2.06.94-2.06 2.06-.94-2.06-.94-.94-2.06-.94 2.06-2.06.94z\"/><path d=\"M17.41 7.96l-1.37-1.37c-.4-.4-.92-.59-1.43-.59-.52 0-1.04.2-1.43.59L10.3 9.45l-7.72 7.72c-.78.78-.78 2.05 0 2.83L4 21.41c.39.39.9.59 1.41.59.51 0 1.02-.2 1.41-.59l7.78-7.78 2.81-2.81c.8-.78.8-2.07 0-2.86zM5.41 20L4 18.59l7.72-7.72 1.47 1.35L5.41 20z\"/>\n",
              "  </svg>\n",
              "      </button>\n",
              "      \n",
              "  <style>\n",
              "    .colab-df-container {\n",
              "      display:flex;\n",
              "      flex-wrap:wrap;\n",
              "      gap: 12px;\n",
              "    }\n",
              "\n",
              "    .colab-df-convert {\n",
              "      background-color: #E8F0FE;\n",
              "      border: none;\n",
              "      border-radius: 50%;\n",
              "      cursor: pointer;\n",
              "      display: none;\n",
              "      fill: #1967D2;\n",
              "      height: 32px;\n",
              "      padding: 0 0 0 0;\n",
              "      width: 32px;\n",
              "    }\n",
              "\n",
              "    .colab-df-convert:hover {\n",
              "      background-color: #E2EBFA;\n",
              "      box-shadow: 0px 1px 2px rgba(60, 64, 67, 0.3), 0px 1px 3px 1px rgba(60, 64, 67, 0.15);\n",
              "      fill: #174EA6;\n",
              "    }\n",
              "\n",
              "    [theme=dark] .colab-df-convert {\n",
              "      background-color: #3B4455;\n",
              "      fill: #D2E3FC;\n",
              "    }\n",
              "\n",
              "    [theme=dark] .colab-df-convert:hover {\n",
              "      background-color: #434B5C;\n",
              "      box-shadow: 0px 1px 3px 1px rgba(0, 0, 0, 0.15);\n",
              "      filter: drop-shadow(0px 1px 2px rgba(0, 0, 0, 0.3));\n",
              "      fill: #FFFFFF;\n",
              "    }\n",
              "  </style>\n",
              "\n",
              "      <script>\n",
              "        const buttonEl =\n",
              "          document.querySelector('#df-4e7e11e9-f6fa-4ce3-987c-7bc315684dba button.colab-df-convert');\n",
              "        buttonEl.style.display =\n",
              "          google.colab.kernel.accessAllowed ? 'block' : 'none';\n",
              "\n",
              "        async function convertToInteractive(key) {\n",
              "          const element = document.querySelector('#df-4e7e11e9-f6fa-4ce3-987c-7bc315684dba');\n",
              "          const dataTable =\n",
              "            await google.colab.kernel.invokeFunction('convertToInteractive',\n",
              "                                                     [key], {});\n",
              "          if (!dataTable) return;\n",
              "\n",
              "          const docLinkHtml = 'Like what you see? Visit the ' +\n",
              "            '<a target=\"_blank\" href=https://colab.research.google.com/notebooks/data_table.ipynb>data table notebook</a>'\n",
              "            + ' to learn more about interactive tables.';\n",
              "          element.innerHTML = '';\n",
              "          dataTable['output_type'] = 'display_data';\n",
              "          await google.colab.output.renderOutput(dataTable, element);\n",
              "          const docLink = document.createElement('div');\n",
              "          docLink.innerHTML = docLinkHtml;\n",
              "          element.appendChild(docLink);\n",
              "        }\n",
              "      </script>\n",
              "    </div>\n",
              "  </div>\n",
              "  "
            ]
          },
          "metadata": {},
          "execution_count": 80
        }
      ],
      "source": [
        "pd.set_option('display.max_columns', None)\n",
        "data_from_appsheet.head()"
      ]
    },
    {
      "cell_type": "code",
      "source": [
        "data_from_appsheet.dropna(subset=['vid'],inplace=True)"
      ],
      "metadata": {
        "id": "qSFLdHcrV8ga"
      },
      "execution_count": null,
      "outputs": []
    },
    {
      "cell_type": "code",
      "source": [
        "data_from_appsheet =  data_from_appsheet.reset_index()"
      ],
      "metadata": {
        "id": "nvLBKh0_ZJoL"
      },
      "execution_count": null,
      "outputs": []
    },
    {
      "cell_type": "code",
      "source": [
        "data_from_appsheet.shape"
      ],
      "metadata": {
        "colab": {
          "base_uri": "https://localhost:8080/"
        },
        "id": "CJQrDxpbXUX6",
        "outputId": "9fb8340d-9c24-4dbe-fe36-9a250a567fe8"
      },
      "execution_count": null,
      "outputs": [
        {
          "output_type": "execute_result",
          "data": {
            "text/plain": [
              "(17, 41)"
            ]
          },
          "metadata": {},
          "execution_count": 83
        }
      ]
    },
    {
      "cell_type": "code",
      "execution_count": null,
      "metadata": {
        "id": "8u0eBtzQdeu_"
      },
      "outputs": [],
      "source": [
        "vid = data_from_appsheet['vid']\n",
        "talk = data_from_appsheet['Talk?']\n",
        "flier = data_from_appsheet['Left flier?']\n",
        "moved = data_from_appsheet['Moved?']\n",
        "support_Y_N = data_from_appsheet['Support (Y/N)?']"
      ]
    },
    {
      "cell_type": "code",
      "source": [
        "data_from_appsheet.columns"
      ],
      "metadata": {
        "colab": {
          "base_uri": "https://localhost:8080/"
        },
        "id": "QvERGqEz8nuC",
        "outputId": "1f7bc316-ee1d-4048-e64b-da4550a9ff83"
      },
      "execution_count": null,
      "outputs": [
        {
          "output_type": "execute_result",
          "data": {
            "text/plain": [
              "Index(['VoterID', 'LastName', 'FirstName', 'Name', 'ResidenceAddress',\n",
              "       'UnitNumber', 'ResidenceCity', 'StreetName', 'ResidenceZipCode',\n",
              "       'PartyName', 'Age', 'Talk?', 'Left flier?', 'Moved?', 'Abortion?',\n",
              "       'Budget deficit?', 'Climate change?', 'COVID-19 outbreak?', 'Crime?',\n",
              "       'Criminal justice system?', 'Drug addiction?', 'Drought?', 'Economy?',\n",
              "       'Education?', 'Global trade?', 'Health care?', 'Immigration?',\n",
              "       'Inflation?', 'Job?', 'Military?', 'Political system?', 'Poverty?',\n",
              "       'Race?', 'Social Security?', 'Terrorism?', 'Ukraine?', 'Voter right?',\n",
              "       'Others', 'Support (Y/N)?', 'vid'],\n",
              "      dtype='object')"
            ]
          },
          "metadata": {},
          "execution_count": 23
        }
      ]
    },
    {
      "cell_type": "code",
      "source": [
        "len(vid) "
      ],
      "metadata": {
        "colab": {
          "base_uri": "https://localhost:8080/"
        },
        "id": "unJEH3cd-Dk5",
        "outputId": "c68a7fc7-63e0-4ebe-dfc2-0f12cf335f4a"
      },
      "execution_count": null,
      "outputs": [
        {
          "output_type": "execute_result",
          "data": {
            "text/plain": [
              "17"
            ]
          },
          "metadata": {},
          "execution_count": 85
        }
      ]
    },
    {
      "cell_type": "code",
      "source": [
        "canvassing_issue =[]\n",
        "Budget_deficit = data_from_appsheet['Budget deficit?']\n",
        "# Abortion[1].isna()\n",
        "for i in range(len(talk)):\n",
        "  if Budget_deficit[i] == True:\n",
        "    canvassing_issue.append('Budget deficit,')\n",
        "  else:\n",
        "    canvassing_issue.append('')\n"
      ],
      "metadata": {
        "id": "QICmVOW48W6h"
      },
      "execution_count": null,
      "outputs": []
    },
    {
      "cell_type": "code",
      "source": [
        "# for i in range(len(canvassing_issue)):\n",
        "#   if Budget_deficit[i] == True:\n",
        "#     canvassing_issue[i] = str(canvassing_issue[i]) + ', '+ 'Budget_deficit'"
      ],
      "metadata": {
        "id": "lJi_EZZ2BRP6"
      },
      "execution_count": null,
      "outputs": []
    },
    {
      "cell_type": "code",
      "source": [
        "def appending_issue (list1, word):\n",
        "  for i in range(len(canvassing_issue)):\n",
        "    if list1[i] == True:\n",
        "      canvassing_issue[i] = str(canvassing_issue[i]) + word\n",
        "  return canvassing_issue"
      ],
      "metadata": {
        "id": "xWH9zxWlCXzX"
      },
      "execution_count": null,
      "outputs": []
    },
    {
      "cell_type": "code",
      "source": [
        "appending_issue (data_from_appsheet['Climate change?'], ' Climate change,')\n",
        "appending_issue (data_from_appsheet['COVID-19 outbreak?'], ' COVID-19 outbreak,')\n",
        "\n",
        "appending_issue (data_from_appsheet['Crime?'], ' Crime,')\n",
        "appending_issue (data_from_appsheet['Criminal justice system?'], ' Criminal justice system,')\n",
        "appending_issue (data_from_appsheet['Drug addiction?'], ' Drug addiction,')\n",
        "appending_issue (data_from_appsheet['Drought?'], ' Drought,')\n",
        "appending_issue (data_from_appsheet['Economy?'], ' Economy,')\n",
        "appending_issue (data_from_appsheet['Education?'], ' Education,')\n",
        "appending_issue (data_from_appsheet['Global trade?'], ' Global trade,')\n",
        "appending_issue (data_from_appsheet['Health care?'], ' Health care,')\n",
        "\n",
        "appending_issue (data_from_appsheet['Immigration?'], ' Immigration,')\n",
        "appending_issue (data_from_appsheet['Inflation?'], ' Inflation,')\n",
        "appending_issue (data_from_appsheet['Job?'], ' Job,')\n",
        "\n",
        "appending_issue (data_from_appsheet['Military?'], ' Military,')\n",
        "appending_issue (data_from_appsheet['Political system?'], ' Political system,')\n",
        "appending_issue (data_from_appsheet['Poverty?'], ' Poverty,')\n",
        "appending_issue (data_from_appsheet['Race?'], ' Race,')\n",
        "\n",
        "appending_issue (data_from_appsheet['Social Security?'], ' Social Security,')\n",
        "appending_issue (data_from_appsheet['Terrorism?'], ' Terrorism,')\n",
        "appending_issue (data_from_appsheet['Ukraine?'], ' Ukraine,')\n",
        "appending_issue (data_from_appsheet['Voter right?'], ' Voter right')"
      ],
      "metadata": {
        "id": "wC5NGMBrC0H7",
        "colab": {
          "base_uri": "https://localhost:8080/"
        },
        "outputId": "ff3bd855-ea58-437f-eee5-17c857bbaca4"
      },
      "execution_count": null,
      "outputs": [
        {
          "output_type": "execute_result",
          "data": {
            "text/plain": [
              "['',\n",
              " '',\n",
              " '',\n",
              " '',\n",
              " '',\n",
              " '',\n",
              " '',\n",
              " '',\n",
              " '',\n",
              " '',\n",
              " '',\n",
              " '',\n",
              " '',\n",
              " '',\n",
              " ' Climate change, Inflation, Political system,',\n",
              " ' Climate change, Political system, Race,',\n",
              " ' Inflation,']"
            ]
          },
          "metadata": {},
          "execution_count": 88
        }
      ]
    },
    {
      "cell_type": "code",
      "source": [
        "for i in range(len(canvassing_issue)):\n",
        "  if data_from_appsheet['Others'][i] == True:\n",
        "    canvassing_issue[i] = str(canvassing_issue[i]) + ', '+ data_from_appsheet['Others'][i]\n"
      ],
      "metadata": {
        "id": "kdO5S8yC13vq"
      },
      "execution_count": null,
      "outputs": []
    },
    {
      "cell_type": "code",
      "source": [
        "# if Economy[38] == True:\n",
        "#   print('yes')"
      ],
      "metadata": {
        "colab": {
          "base_uri": "https://localhost:8080/"
        },
        "id": "XHF0PXbNA7-k",
        "outputId": "18c4a654-4338-433f-9021-14728ab8d36e"
      },
      "execution_count": null,
      "outputs": [
        {
          "output_type": "stream",
          "name": "stdout",
          "text": [
            "yes\n"
          ]
        }
      ]
    },
    {
      "cell_type": "code",
      "source": [
        "canvassing_issue"
      ],
      "metadata": {
        "colab": {
          "base_uri": "https://localhost:8080/"
        },
        "id": "egkmEWXe_4QT",
        "outputId": "7b533076-275b-4d5b-a947-d0d8e622bcd9"
      },
      "execution_count": null,
      "outputs": [
        {
          "output_type": "execute_result",
          "data": {
            "text/plain": [
              "['',\n",
              " '',\n",
              " '',\n",
              " '',\n",
              " '',\n",
              " '',\n",
              " '',\n",
              " '',\n",
              " '',\n",
              " '',\n",
              " '',\n",
              " '',\n",
              " '',\n",
              " '',\n",
              " ' Climate change, Inflation, Political system,',\n",
              " ' Climate change, Political system, Race,',\n",
              " ' Inflation,']"
            ]
          },
          "metadata": {},
          "execution_count": 90
        }
      ]
    },
    {
      "cell_type": "code",
      "source": [
        "len(canvassing_issue)"
      ],
      "metadata": {
        "colab": {
          "base_uri": "https://localhost:8080/"
        },
        "id": "BwdvDMygYM84",
        "outputId": "a1510463-65c1-4121-bc41-9aab1d2545c4"
      },
      "execution_count": null,
      "outputs": [
        {
          "output_type": "execute_result",
          "data": {
            "text/plain": [
              "17"
            ]
          },
          "metadata": {},
          "execution_count": 91
        }
      ]
    },
    {
      "cell_type": "code",
      "execution_count": null,
      "metadata": {
        "id": "8-UZxMYKaBhD"
      },
      "outputs": [],
      "source": [
        "import hubspot\n",
        "from pprint import pprint\n",
        "from hubspot.crm.contacts import SimplePublicObjectInput, ApiException\n",
        "\n",
        "client = hubspot.Client.create(api_key= HAPI_KEY)\n",
        "\n",
        "for i in range(len(vid)):\n",
        "  properties = {\n",
        "      \"canvasing_talked\": str(talk[i]),\n",
        "      \"canvassing_fliers\":str(flier[i]),\n",
        "      'canvassing_moved_':str(moved[i]),\n",
        "      'canvassing_support_y_n_': str(support_Y_N[i]),\n",
        "      'canvassing_issues':str(canvassing_issue[i])\n",
        "\n",
        "  }\n",
        "  simple_public_object_input = SimplePublicObjectInput(properties=properties)\n",
        "  try:\n",
        "      api_response = client.crm.contacts.basic_api.update(contact_id= str(int(vid[i])), simple_public_object_input=simple_public_object_input)\n",
        "      pprint(api_response)\n",
        "  except ApiException as e:\n",
        "      print(\"Exception when calling basic_api->update: %s\\n\" % e)\n"
      ]
    },
    {
      "cell_type": "code",
      "execution_count": null,
      "metadata": {
        "id": "mNrKmszubcZH"
      },
      "outputs": [],
      "source": [
        "## Get all contact vid and voter id from hubspot\n",
        "# import requests\n",
        "# import json \n",
        "\n",
        "# count = 100\n",
        "# has_more = True\n",
        "# offset = ''\n",
        "# voter_id_dict = {}\n",
        "\n",
        "# while has_more:\n",
        "#   url= f'https://api.hubapi.com/contacts/v1/lists/all/contacts/all?hapikey={HAPI_KEY}&count={count}&property=voter_id&vidOffset={offset}'\n",
        "#   r=requests.get(url=url)\n",
        "#   for contact in json.loads(r.text)['contacts']:\n",
        "#     properties = contact['properties']\n",
        "#     key_to_lookup = 'voter_id'\n",
        "#     if key_to_lookup not in properties:\n",
        "#       pass\n",
        "#     else:\n",
        "#       contact_vid = contact['canonical-vid']\n",
        "#       voter_id = properties['voter_id']['value'] if properties['voter_id']['value'] != None else ''\n",
        "#       voter_id_dict.update({voter_id: contact_vid})\n",
        "#       # print(\"voter_id:\",voter_id,\", vid:\",contact_vid)\n",
        "\n",
        "#   if str(r) != '<Response [200]>':\n",
        "#     break\n",
        "#   has_more = json.loads(r.text)['has-more']\n",
        "#   offset = json.loads(r.text)['vid-offset']\n"
      ]
    },
    {
      "cell_type": "code",
      "execution_count": null,
      "metadata": {
        "id": "k9WjJXJ4sSlV"
      },
      "outputs": [],
      "source": [
        "# df.to_csv(os.path.join('/content/drive/MyDrive/Appsheet data to Hubspot','voterid_contactid_hubspot.csv'))"
      ]
    },
    {
      "cell_type": "code",
      "source": [
        "# data_from_appsheet = pd.read_csv('hubspot-crm-exports-all-contacts-2022-05-03.csv')\n",
        "# data_from_appsheet.head()\n",
        "# key = [666603.0,654085.0,97507692.0,2976854.0]\n",
        "# # key = [2839272.0]\n",
        "# voter_from_appsheet = data_from_appsheet[data_from_appsheet['Voter ID'].isin(key)]\n",
        "# voter_from_appsheet\n",
        "# os.chdir(\"/content/drive/Shareddrives/Modeling Files/CD16 List/San Mateo Voter Data\")\n",
        "# # read table \n",
        "# SM_new=pd.read_parquet('2022Jun_CD16_20220224_075502.parquet')\n",
        "# pd.options.display.max_columns = None\n",
        "# pd.options.display.max_rows = None\n",
        "# print(SM_new.shape)\n",
        "# #print(SM_new.DistrictID_1.unique())\n",
        "# SM_new.head()\n",
        "# # key = [666603,654085,97507692,2976854]\n",
        "# key = [3156202,3178722] # Arianna\tSeay \n",
        "\n",
        "# #3035916 # Arthur\tRobinson not sure in Santa Clara\n",
        "# #1981044 # Nathan Gardner   not sure in Santa Clara\n",
        "# #3178722 #Daniel\tCotter\tnot sure in Santa Clara\n",
        "\n",
        "# voter_from_appsheet = SM_new[SM_new['VoterID'].isin(key)]\n",
        "# voter_from_appsheet\n",
        " # ww = ['Robinson'] #Daniel\tCotter\tNathan Gardner\n",
        " # voter_from_appsheet = SM_new[SM_new['LastName'].isin(ww)]\n",
        " # voter_from_appsheet"
      ],
      "metadata": {
        "id": "OR_ErwkS5rm0"
      },
      "execution_count": null,
      "outputs": []
    },
    {
      "cell_type": "markdown",
      "source": [
        "### code for testing"
      ],
      "metadata": {
        "id": "0x5pTFpiUwIj"
      }
    },
    {
      "cell_type": "code",
      "source": [
        "data_from_HubSpot = pd.read_csv('voterid_contactid_hubspot.csv')"
      ],
      "metadata": {
        "id": "Egh2E5X22fP4"
      },
      "execution_count": null,
      "outputs": []
    },
    {
      "cell_type": "code",
      "source": [
        "data_from_HubSpot.head()"
      ],
      "metadata": {
        "colab": {
          "base_uri": "https://localhost:8080/",
          "height": 288
        },
        "id": "Y8HkTuOu2lxq",
        "outputId": "cb239743-75ba-4440-f0f0-b0f1e83b284f"
      },
      "execution_count": null,
      "outputs": [
        {
          "output_type": "execute_result",
          "data": {
            "text/plain": [
              "   Unnamed: 0  voter_id  contact_vid\n",
              "0           0    634113      3326851\n",
              "1           1   3052890        35585\n",
              "2           2   1786686       174105\n",
              "3           3   2424526       174107\n",
              "4           4   2363216       174108"
            ],
            "text/html": [
              "\n",
              "  <div id=\"df-9eff34ee-b46d-43b1-9b55-2e1ba2191fba\">\n",
              "    <div class=\"colab-df-container\">\n",
              "      <div>\n",
              "<style scoped>\n",
              "    .dataframe tbody tr th:only-of-type {\n",
              "        vertical-align: middle;\n",
              "    }\n",
              "\n",
              "    .dataframe tbody tr th {\n",
              "        vertical-align: top;\n",
              "    }\n",
              "\n",
              "    .dataframe thead th {\n",
              "        text-align: right;\n",
              "    }\n",
              "</style>\n",
              "<table border=\"1\" class=\"dataframe\">\n",
              "  <thead>\n",
              "    <tr style=\"text-align: right;\">\n",
              "      <th></th>\n",
              "      <th>Unnamed: 0</th>\n",
              "      <th>voter_id</th>\n",
              "      <th>contact_vid</th>\n",
              "    </tr>\n",
              "  </thead>\n",
              "  <tbody>\n",
              "    <tr>\n",
              "      <th>0</th>\n",
              "      <td>0</td>\n",
              "      <td>634113</td>\n",
              "      <td>3326851</td>\n",
              "    </tr>\n",
              "    <tr>\n",
              "      <th>1</th>\n",
              "      <td>1</td>\n",
              "      <td>3052890</td>\n",
              "      <td>35585</td>\n",
              "    </tr>\n",
              "    <tr>\n",
              "      <th>2</th>\n",
              "      <td>2</td>\n",
              "      <td>1786686</td>\n",
              "      <td>174105</td>\n",
              "    </tr>\n",
              "    <tr>\n",
              "      <th>3</th>\n",
              "      <td>3</td>\n",
              "      <td>2424526</td>\n",
              "      <td>174107</td>\n",
              "    </tr>\n",
              "    <tr>\n",
              "      <th>4</th>\n",
              "      <td>4</td>\n",
              "      <td>2363216</td>\n",
              "      <td>174108</td>\n",
              "    </tr>\n",
              "  </tbody>\n",
              "</table>\n",
              "</div>\n",
              "      <button class=\"colab-df-convert\" onclick=\"convertToInteractive('df-9eff34ee-b46d-43b1-9b55-2e1ba2191fba')\"\n",
              "              title=\"Convert this dataframe to an interactive table.\"\n",
              "              style=\"display:none;\">\n",
              "        \n",
              "  <svg xmlns=\"http://www.w3.org/2000/svg\" height=\"24px\"viewBox=\"0 0 24 24\"\n",
              "       width=\"24px\">\n",
              "    <path d=\"M0 0h24v24H0V0z\" fill=\"none\"/>\n",
              "    <path d=\"M18.56 5.44l.94 2.06.94-2.06 2.06-.94-2.06-.94-.94-2.06-.94 2.06-2.06.94zm-11 1L8.5 8.5l.94-2.06 2.06-.94-2.06-.94L8.5 2.5l-.94 2.06-2.06.94zm10 10l.94 2.06.94-2.06 2.06-.94-2.06-.94-.94-2.06-.94 2.06-2.06.94z\"/><path d=\"M17.41 7.96l-1.37-1.37c-.4-.4-.92-.59-1.43-.59-.52 0-1.04.2-1.43.59L10.3 9.45l-7.72 7.72c-.78.78-.78 2.05 0 2.83L4 21.41c.39.39.9.59 1.41.59.51 0 1.02-.2 1.41-.59l7.78-7.78 2.81-2.81c.8-.78.8-2.07 0-2.86zM5.41 20L4 18.59l7.72-7.72 1.47 1.35L5.41 20z\"/>\n",
              "  </svg>\n",
              "      </button>\n",
              "      \n",
              "  <style>\n",
              "    .colab-df-container {\n",
              "      display:flex;\n",
              "      flex-wrap:wrap;\n",
              "      gap: 12px;\n",
              "    }\n",
              "\n",
              "    .colab-df-convert {\n",
              "      background-color: #E8F0FE;\n",
              "      border: none;\n",
              "      border-radius: 50%;\n",
              "      cursor: pointer;\n",
              "      display: none;\n",
              "      fill: #1967D2;\n",
              "      height: 32px;\n",
              "      padding: 0 0 0 0;\n",
              "      width: 32px;\n",
              "    }\n",
              "\n",
              "    .colab-df-convert:hover {\n",
              "      background-color: #E2EBFA;\n",
              "      box-shadow: 0px 1px 2px rgba(60, 64, 67, 0.3), 0px 1px 3px 1px rgba(60, 64, 67, 0.15);\n",
              "      fill: #174EA6;\n",
              "    }\n",
              "\n",
              "    [theme=dark] .colab-df-convert {\n",
              "      background-color: #3B4455;\n",
              "      fill: #D2E3FC;\n",
              "    }\n",
              "\n",
              "    [theme=dark] .colab-df-convert:hover {\n",
              "      background-color: #434B5C;\n",
              "      box-shadow: 0px 1px 3px 1px rgba(0, 0, 0, 0.15);\n",
              "      filter: drop-shadow(0px 1px 2px rgba(0, 0, 0, 0.3));\n",
              "      fill: #FFFFFF;\n",
              "    }\n",
              "  </style>\n",
              "\n",
              "      <script>\n",
              "        const buttonEl =\n",
              "          document.querySelector('#df-9eff34ee-b46d-43b1-9b55-2e1ba2191fba button.colab-df-convert');\n",
              "        buttonEl.style.display =\n",
              "          google.colab.kernel.accessAllowed ? 'block' : 'none';\n",
              "\n",
              "        async function convertToInteractive(key) {\n",
              "          const element = document.querySelector('#df-9eff34ee-b46d-43b1-9b55-2e1ba2191fba');\n",
              "          const dataTable =\n",
              "            await google.colab.kernel.invokeFunction('convertToInteractive',\n",
              "                                                     [key], {});\n",
              "          if (!dataTable) return;\n",
              "\n",
              "          const docLinkHtml = 'Like what you see? Visit the ' +\n",
              "            '<a target=\"_blank\" href=https://colab.research.google.com/notebooks/data_table.ipynb>data table notebook</a>'\n",
              "            + ' to learn more about interactive tables.';\n",
              "          element.innerHTML = '';\n",
              "          dataTable['output_type'] = 'display_data';\n",
              "          await google.colab.output.renderOutput(dataTable, element);\n",
              "          const docLink = document.createElement('div');\n",
              "          docLink.innerHTML = docLinkHtml;\n",
              "          element.appendChild(docLink);\n",
              "        }\n",
              "      </script>\n",
              "    </div>\n",
              "  </div>\n",
              "  "
            ]
          },
          "metadata": {},
          "execution_count": 12
        }
      ]
    },
    {
      "cell_type": "code",
      "source": [
        "contact_vid_hubspot = data_from_HubSpot['contact_vid']\n",
        "voter_hubspot = data_from_HubSpot['voter_id']\n",
        "contact_vid_appsheet = data_from_appsheet['Contact ID']\n",
        "voter_id = []"
      ],
      "metadata": {
        "id": "r3twGdUZ2r9y"
      },
      "execution_count": null,
      "outputs": []
    },
    {
      "cell_type": "code",
      "source": [
        "type(contact_vid_hubspot)"
      ],
      "metadata": {
        "colab": {
          "base_uri": "https://localhost:8080/"
        },
        "id": "pRpuZijQ3sDE",
        "outputId": "f81a1094-7e52-40e9-b504-30a766a27642"
      },
      "execution_count": null,
      "outputs": [
        {
          "output_type": "execute_result",
          "data": {
            "text/plain": [
              "pandas.core.series.Series"
            ]
          },
          "metadata": {},
          "execution_count": 27
        }
      ]
    },
    {
      "cell_type": "code",
      "source": [
        "len(contact_vid_appsheet)"
      ],
      "metadata": {
        "colab": {
          "base_uri": "https://localhost:8080/"
        },
        "id": "7d2mCOjn4TDz",
        "outputId": "fabbad30-71bb-4996-e82a-b711359a30af"
      },
      "execution_count": null,
      "outputs": [
        {
          "output_type": "execute_result",
          "data": {
            "text/plain": [
              "165"
            ]
          },
          "metadata": {},
          "execution_count": 35
        }
      ]
    },
    {
      "cell_type": "code",
      "source": [
        "for id in range(len(contact_vid_appsheet)):\n",
        "  # print(contact_vid_appsheet[id])\n",
        "  if contact_vid_appsheet[id] in contact_vid_hubspot:\n",
        "    voter_id.append(voter_hubspot[id])\n"
      ],
      "metadata": {
        "id": "jn_5I-mO3CMq"
      },
      "execution_count": null,
      "outputs": []
    },
    {
      "cell_type": "code",
      "source": [
        "len(voter_id)"
      ],
      "metadata": {
        "colab": {
          "base_uri": "https://localhost:8080/"
        },
        "id": "MpCik-sG38St",
        "outputId": "266d8952-97ce-41dc-a00e-d4794793b55b"
      },
      "execution_count": null,
      "outputs": [
        {
          "output_type": "execute_result",
          "data": {
            "text/plain": [
              "67"
            ]
          },
          "metadata": {},
          "execution_count": 44
        }
      ]
    }
  ],
  "metadata": {
    "colab": {
      "provenance": [],
      "include_colab_link": true
    },
    "kernelspec": {
      "display_name": "Python 3",
      "name": "python3"
    },
    "language_info": {
      "name": "python"
    }
  },
  "nbformat": 4,
  "nbformat_minor": 0
}