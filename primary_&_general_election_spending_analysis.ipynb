{
  "nbformat": 4,
  "nbformat_minor": 0,
  "metadata": {
    "colab": {
      "provenance": [],
      "collapsed_sections": [],
      "include_colab_link": true
    },
    "kernelspec": {
      "name": "python3",
      "display_name": "Python 3"
    },
    "language_info": {
      "name": "python"
    }
  },
  "cells": [
    {
      "cell_type": "markdown",
      "metadata": {
        "id": "view-in-github",
        "colab_type": "text"
      },
      "source": [
        "<a href=\"https://colab.research.google.com/github/ElinorZhang0/ElinorZhang0/blob/main/primary_%26_general_election_spending_analysis.ipynb\" target=\"_parent\"><img src=\"https://colab.research.google.com/assets/colab-badge.svg\" alt=\"Open In Colab\"/></a>"
      ]
    },
    {
      "cell_type": "code",
      "source": [
        "pip install votes"
      ],
      "metadata": {
        "colab": {
          "base_uri": "https://localhost:8080/"
        },
        "id": "uPwsI1kO2d_6",
        "outputId": "66773ea1-2256-4a25-e1a6-ac3335bd202c"
      },
      "execution_count": null,
      "outputs": [
        {
          "output_type": "stream",
          "name": "stdout",
          "text": [
            "Collecting votes\n",
            "  Downloading votes-1.0.1-py2.py3-none-any.whl (14 kB)\n",
            "Installing collected packages: votes\n",
            "Successfully installed votes-1.0.1\n"
          ]
        }
      ]
    },
    {
      "cell_type": "code",
      "execution_count": null,
      "metadata": {
        "id": "hHMYin59m3Ac"
      },
      "outputs": [],
      "source": [
        "import pandas as pd\n",
        "from pprint import pprint\n",
        "from pathlib import Path\n",
        "import glob\n",
        "import os\n",
        "import numpy as np\n",
        "import matplotlib.pyplot as plt\n",
        "import numpy as np\n"
      ]
    },
    {
      "cell_type": "code",
      "source": [
        "from google.colab import drive\n",
        "# If drive is not already mounted: \n",
        "if not Path('/content/drive').exists():\n",
        "  drive.mount('/content/drive')"
      ],
      "metadata": {
        "id": "ELoLy3vFe1tU"
      },
      "execution_count": null,
      "outputs": []
    },
    {
      "cell_type": "code",
      "source": [
        "os.chdir(\"/content/drive/MyDrive/Primary Electedbility analysis 2021-2022\")\n"
      ],
      "metadata": {
        "id": "JFtvHRob3NC6"
      },
      "execution_count": null,
      "outputs": []
    },
    {
      "cell_type": "code",
      "source": [
        "# Read csv\n",
        "ad_material_spending = pd.read_excel('Expense breakdown Analysis.xlsx', sheet_name='material spending comparison')\n",
        "ad_material_spending"
      ],
      "metadata": {
        "id": "lzS1j0s1nGpJ",
        "colab": {
          "base_uri": "https://localhost:8080/",
          "height": 414
        },
        "outputId": "76b388c5-dbfc-4d37-d524-225157eb90b7"
      },
      "execution_count": null,
      "outputs": [
        {
          "output_type": "execute_result",
          "data": {
            "text/html": [
              "\n",
              "  <div id=\"df-64000128-1beb-494e-8c93-75453de25bb3\">\n",
              "    <div class=\"colab-df-container\">\n",
              "      <div>\n",
              "<style scoped>\n",
              "    .dataframe tbody tr th:only-of-type {\n",
              "        vertical-align: middle;\n",
              "    }\n",
              "\n",
              "    .dataframe tbody tr th {\n",
              "        vertical-align: top;\n",
              "    }\n",
              "\n",
              "    .dataframe thead th {\n",
              "        text-align: right;\n",
              "    }\n",
              "</style>\n",
              "<table border=\"1\" class=\"dataframe\">\n",
              "  <thead>\n",
              "    <tr style=\"text-align: right;\">\n",
              "      <th></th>\n",
              "      <th>Election year</th>\n",
              "      <th>candidate</th>\n",
              "      <th>Party</th>\n",
              "      <th>votes</th>\n",
              "      <th>Ads Material spending</th>\n",
              "    </tr>\n",
              "  </thead>\n",
              "  <tbody>\n",
              "    <tr>\n",
              "      <th>0</th>\n",
              "      <td>2012.0</td>\n",
              "      <td>Anna</td>\n",
              "      <td>Democratic</td>\n",
              "      <td>86851.0</td>\n",
              "      <td>81547.05</td>\n",
              "    </tr>\n",
              "    <tr>\n",
              "      <th>1</th>\n",
              "      <td>2012.0</td>\n",
              "      <td>Carol Brouillet</td>\n",
              "      <td>Green</td>\n",
              "      <td>5777.0</td>\n",
              "      <td>4590.70</td>\n",
              "    </tr>\n",
              "    <tr>\n",
              "      <th>2</th>\n",
              "      <td>2012.0</td>\n",
              "      <td>William Parks</td>\n",
              "      <td>Democratic</td>\n",
              "      <td>6504.0</td>\n",
              "      <td>0.00</td>\n",
              "    </tr>\n",
              "    <tr>\n",
              "      <th>3</th>\n",
              "      <td>2014.0</td>\n",
              "      <td>Anna</td>\n",
              "      <td>Democratic</td>\n",
              "      <td>81295.0</td>\n",
              "      <td>4025.50</td>\n",
              "    </tr>\n",
              "    <tr>\n",
              "      <th>4</th>\n",
              "      <td>2014.0</td>\n",
              "      <td>Bruce Anderson</td>\n",
              "      <td>Republican</td>\n",
              "      <td>9644.0</td>\n",
              "      <td>0.00</td>\n",
              "    </tr>\n",
              "    <tr>\n",
              "      <th>5</th>\n",
              "      <td>2014.0</td>\n",
              "      <td>Richard Fox</td>\n",
              "      <td>Republican</td>\n",
              "      <td>27111.0</td>\n",
              "      <td>0.00</td>\n",
              "    </tr>\n",
              "    <tr>\n",
              "      <th>6</th>\n",
              "      <td>2016.0</td>\n",
              "      <td>Anna</td>\n",
              "      <td>Democratic</td>\n",
              "      <td>132726.0</td>\n",
              "      <td>619.85</td>\n",
              "    </tr>\n",
              "    <tr>\n",
              "      <th>7</th>\n",
              "      <td>2016.0</td>\n",
              "      <td>Richard Fox</td>\n",
              "      <td>Republican</td>\n",
              "      <td>47484.0</td>\n",
              "      <td>0.00</td>\n",
              "    </tr>\n",
              "    <tr>\n",
              "      <th>8</th>\n",
              "      <td>2018.0</td>\n",
              "      <td>Anna</td>\n",
              "      <td>Democratic</td>\n",
              "      <td>133993.0</td>\n",
              "      <td>45208.38</td>\n",
              "    </tr>\n",
              "    <tr>\n",
              "      <th>9</th>\n",
              "      <td>2020.0</td>\n",
              "      <td>Anna</td>\n",
              "      <td>Democratic</td>\n",
              "      <td>146225.0</td>\n",
              "      <td>160668.94</td>\n",
              "    </tr>\n",
              "    <tr>\n",
              "      <th>10</th>\n",
              "      <td>2020.0</td>\n",
              "      <td>Rishi Kumar</td>\n",
              "      <td>Democratic</td>\n",
              "      <td>38826.0</td>\n",
              "      <td>0.00</td>\n",
              "    </tr>\n",
              "    <tr>\n",
              "      <th>11</th>\n",
              "      <td>2020.0</td>\n",
              "      <td>Richard Fox</td>\n",
              "      <td>Republican</td>\n",
              "      <td>28863.0</td>\n",
              "      <td>136771.79</td>\n",
              "    </tr>\n",
              "  </tbody>\n",
              "</table>\n",
              "</div>\n",
              "      <button class=\"colab-df-convert\" onclick=\"convertToInteractive('df-64000128-1beb-494e-8c93-75453de25bb3')\"\n",
              "              title=\"Convert this dataframe to an interactive table.\"\n",
              "              style=\"display:none;\">\n",
              "        \n",
              "  <svg xmlns=\"http://www.w3.org/2000/svg\" height=\"24px\"viewBox=\"0 0 24 24\"\n",
              "       width=\"24px\">\n",
              "    <path d=\"M0 0h24v24H0V0z\" fill=\"none\"/>\n",
              "    <path d=\"M18.56 5.44l.94 2.06.94-2.06 2.06-.94-2.06-.94-.94-2.06-.94 2.06-2.06.94zm-11 1L8.5 8.5l.94-2.06 2.06-.94-2.06-.94L8.5 2.5l-.94 2.06-2.06.94zm10 10l.94 2.06.94-2.06 2.06-.94-2.06-.94-.94-2.06-.94 2.06-2.06.94z\"/><path d=\"M17.41 7.96l-1.37-1.37c-.4-.4-.92-.59-1.43-.59-.52 0-1.04.2-1.43.59L10.3 9.45l-7.72 7.72c-.78.78-.78 2.05 0 2.83L4 21.41c.39.39.9.59 1.41.59.51 0 1.02-.2 1.41-.59l7.78-7.78 2.81-2.81c.8-.78.8-2.07 0-2.86zM5.41 20L4 18.59l7.72-7.72 1.47 1.35L5.41 20z\"/>\n",
              "  </svg>\n",
              "      </button>\n",
              "      \n",
              "  <style>\n",
              "    .colab-df-container {\n",
              "      display:flex;\n",
              "      flex-wrap:wrap;\n",
              "      gap: 12px;\n",
              "    }\n",
              "\n",
              "    .colab-df-convert {\n",
              "      background-color: #E8F0FE;\n",
              "      border: none;\n",
              "      border-radius: 50%;\n",
              "      cursor: pointer;\n",
              "      display: none;\n",
              "      fill: #1967D2;\n",
              "      height: 32px;\n",
              "      padding: 0 0 0 0;\n",
              "      width: 32px;\n",
              "    }\n",
              "\n",
              "    .colab-df-convert:hover {\n",
              "      background-color: #E2EBFA;\n",
              "      box-shadow: 0px 1px 2px rgba(60, 64, 67, 0.3), 0px 1px 3px 1px rgba(60, 64, 67, 0.15);\n",
              "      fill: #174EA6;\n",
              "    }\n",
              "\n",
              "    [theme=dark] .colab-df-convert {\n",
              "      background-color: #3B4455;\n",
              "      fill: #D2E3FC;\n",
              "    }\n",
              "\n",
              "    [theme=dark] .colab-df-convert:hover {\n",
              "      background-color: #434B5C;\n",
              "      box-shadow: 0px 1px 3px 1px rgba(0, 0, 0, 0.15);\n",
              "      filter: drop-shadow(0px 1px 2px rgba(0, 0, 0, 0.3));\n",
              "      fill: #FFFFFF;\n",
              "    }\n",
              "  </style>\n",
              "\n",
              "      <script>\n",
              "        const buttonEl =\n",
              "          document.querySelector('#df-64000128-1beb-494e-8c93-75453de25bb3 button.colab-df-convert');\n",
              "        buttonEl.style.display =\n",
              "          google.colab.kernel.accessAllowed ? 'block' : 'none';\n",
              "\n",
              "        async function convertToInteractive(key) {\n",
              "          const element = document.querySelector('#df-64000128-1beb-494e-8c93-75453de25bb3');\n",
              "          const dataTable =\n",
              "            await google.colab.kernel.invokeFunction('convertToInteractive',\n",
              "                                                     [key], {});\n",
              "          if (!dataTable) return;\n",
              "\n",
              "          const docLinkHtml = 'Like what you see? Visit the ' +\n",
              "            '<a target=\"_blank\" href=https://colab.research.google.com/notebooks/data_table.ipynb>data table notebook</a>'\n",
              "            + ' to learn more about interactive tables.';\n",
              "          element.innerHTML = '';\n",
              "          dataTable['output_type'] = 'display_data';\n",
              "          await google.colab.output.renderOutput(dataTable, element);\n",
              "          const docLink = document.createElement('div');\n",
              "          docLink.innerHTML = docLinkHtml;\n",
              "          element.appendChild(docLink);\n",
              "        }\n",
              "      </script>\n",
              "    </div>\n",
              "  </div>\n",
              "  "
            ],
            "text/plain": [
              "    Election year        candidate       Party     votes  Ads Material spending\n",
              "0          2012.0             Anna  Democratic   86851.0               81547.05\n",
              "1          2012.0  Carol Brouillet       Green    5777.0                4590.70\n",
              "2          2012.0    William Parks  Democratic    6504.0                   0.00\n",
              "3          2014.0             Anna  Democratic   81295.0                4025.50\n",
              "4          2014.0   Bruce Anderson  Republican    9644.0                   0.00\n",
              "5          2014.0      Richard Fox  Republican   27111.0                   0.00\n",
              "6          2016.0             Anna  Democratic  132726.0                 619.85\n",
              "7          2016.0      Richard Fox  Republican   47484.0                   0.00\n",
              "8          2018.0             Anna  Democratic  133993.0               45208.38\n",
              "9          2020.0             Anna  Democratic  146225.0              160668.94\n",
              "10         2020.0      Rishi Kumar  Democratic   38826.0                   0.00\n",
              "11         2020.0      Richard Fox  Republican   28863.0              136771.79"
            ]
          },
          "metadata": {},
          "execution_count": 68
        }
      ]
    },
    {
      "cell_type": "code",
      "source": [
        "data = ad_material_spending['Ads Material spending']\n",
        "print(type(data[0]))"
      ],
      "metadata": {
        "colab": {
          "base_uri": "https://localhost:8080/"
        },
        "id": "TYwkpmOo5Qr8",
        "outputId": "3bc98131-0ece-4342-fbef-44f3ead2d8a7"
      },
      "execution_count": null,
      "outputs": [
        {
          "output_type": "stream",
          "name": "stdout",
          "text": [
            "<class 'numpy.float64'>\n"
          ]
        }
      ]
    },
    {
      "cell_type": "code",
      "source": [
        "df = pd.DataFrame(ad_material_spending, columns = ['Election year','candidate', \n",
        "                                                   'Party', 'votes',\n",
        "                                                   'Ads Material spending'])\n",
        "print(df)"
      ],
      "metadata": {
        "colab": {
          "base_uri": "https://localhost:8080/"
        },
        "id": "D-yg2I-i9DNM",
        "outputId": "7908742a-1685-47d7-bd41-de3265bc9378"
      },
      "execution_count": null,
      "outputs": [
        {
          "output_type": "stream",
          "name": "stdout",
          "text": [
            "    Election year        candidate       Party     votes  Ads Material spending\n",
            "0          2012.0             Anna  Democratic   86851.0               81547.05\n",
            "1          2012.0  Carol Brouillet       Green    5777.0                4590.70\n",
            "2          2012.0    William Parks  Democratic    6504.0                   0.00\n",
            "3          2014.0             Anna  Democratic   81295.0                4025.50\n",
            "4          2014.0   Bruce Anderson  Republican    9644.0                   0.00\n",
            "5          2014.0      Richard Fox  Republican   27111.0                   0.00\n",
            "6          2016.0             Anna  Democratic  132726.0                 619.85\n",
            "7          2016.0      Richard Fox  Republican   47484.0                   0.00\n",
            "8          2018.0             Anna  Democratic  133993.0               45208.38\n",
            "9          2020.0             Anna  Democratic  146225.0              160668.94\n",
            "10         2020.0      Rishi Kumar  Democratic   38826.0                   0.00\n",
            "11         2020.0      Richard Fox  Republican   28863.0              136771.79\n"
          ]
        }
      ]
    },
    {
      "cell_type": "markdown",
      "source": [
        "https://www.analyticsvidhya.com/blog/2021/08/understanding-bar-plots-in-python-beginners-guide-to-data-visualization/"
      ],
      "metadata": {
        "id": "hBAFrEq6B8Ir"
      }
    },
    {
      "cell_type": "code",
      "source": [
        "df.plot.bar()\n",
        "  \n",
        "# plot between 2 attributes\n",
        "plt.bar(df['Ads Material spending'], df ['votes'])\n",
        "plt.xlabel(\"Election year\")\n",
        "plt.ylabel(\"Ads Material spending\")\n",
        "plt.show()"
      ],
      "metadata": {
        "colab": {
          "base_uri": "https://localhost:8080/",
          "height": 282
        },
        "id": "hTYwQBO39avg",
        "outputId": "3f90d1f5-0469-419f-e7da-a67195639b6e"
      },
      "execution_count": null,
      "outputs": [
        {
          "output_type": "display_data",
          "data": {
            "image/png": "[encoded data removed]",
            "text/plain": [
              "<Figure size 432x288 with 1 Axes>"
            ]
          },
          "metadata": {
            "needs_background": "light"
          }
        }
      ]
    },
    {
      "cell_type": "code",
      "source": [
        "# print disbursement_date\n",
        "disbursement_date = list(csv1['disbursement_date'])\n",
        "pprint(disbursement_date)"
      ],
      "metadata": {
        "id": "ixsBR5p9ocIk"
      },
      "execution_count": null,
      "outputs": []
    },
    {
      "cell_type": "code",
      "source": [
        "from numpy.lib import type_check\n",
        "disbursement_amount = list(csv1['disbursement_amount'])\n",
        "print(type(disbursement_amount[0]))"
      ],
      "metadata": {
        "colab": {
          "base_uri": "https://localhost:8080/"
        },
        "id": "RRSJMxOywOrn",
        "outputId": "9fcbc764-6831-455f-a724-eedba9953a09"
      },
      "execution_count": null,
      "outputs": [
        {
          "output_type": "stream",
          "name": "stdout",
          "text": [
            "<class 'float'>\n"
          ]
        }
      ]
    },
    {
      "cell_type": "code",
      "source": [
        "# spending amount for election\n",
        "disbursement_date = list(csv1['disbursement_date'])\n",
        "disbursement_amount = list(csv1['disbursement_amount'])\n",
        "\n",
        "def general_election_spending():\n",
        "  general_election_spending_amount = 0\n",
        "  for i in range(len(disbursement_date)):\n",
        "    if disbursement_date[i] > '2012-06-07 00:00:00':\n",
        "      general_election_spending_amount += disbursement_amount[i]\n",
        "  return general_election_spending_amount\n",
        "print(\"general:\")\n",
        "print(general_election_spending())\n",
        "\n",
        "\n",
        "def primary_election_spending():\n",
        "  primary_election_spending_amount = 0\n",
        "  for i in range(len(disbursement_date)):\n",
        "    if disbursement_date[i] <= '2012-06-07 00:00:00':\n",
        "      primary_election_spending_amount += disbursement_amount[i]\n",
        "  return primary_election_spending_amount\n",
        "print(\"primary:\")\n",
        "print(primary_election_spending())\n",
        "\n",
        "   \n"
      ],
      "metadata": {
        "colab": {
          "base_uri": "https://localhost:8080/"
        },
        "id": "x-V0lcHGo37l",
        "outputId": "10981e03-efc3-4b24-f483-cff86b979118"
      },
      "execution_count": null,
      "outputs": [
        {
          "output_type": "stream",
          "name": "stdout",
          "text": [
            "general:\n",
            "8500.0\n",
            "primary:\n",
            "13850.0\n"
          ]
        }
      ]
    }
  ]
}